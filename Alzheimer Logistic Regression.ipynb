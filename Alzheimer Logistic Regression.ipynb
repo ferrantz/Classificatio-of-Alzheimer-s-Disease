{
 "cells": [
  {
   "cell_type": "code",
   "execution_count": 1,
   "metadata": {},
   "outputs": [],
   "source": [
    "# Nondementia         0\n",
    "# Very Mild Dementia  1\n",
    "# Mild Dementia       2 \n",
    "# Moderate Dementia   3"
   ]
  },
  {
   "cell_type": "code",
   "execution_count": 55,
   "metadata": {},
   "outputs": [
    {
     "name": "stdout",
     "output_type": "stream",
     "text": [
      "(216, 12)\n"
     ]
    },
    {
     "data": {
      "text/html": [
       "<div>\n",
       "<style scoped>\n",
       "    .dataframe tbody tr th:only-of-type {\n",
       "        vertical-align: middle;\n",
       "    }\n",
       "\n",
       "    .dataframe tbody tr th {\n",
       "        vertical-align: top;\n",
       "    }\n",
       "\n",
       "    .dataframe thead th {\n",
       "        text-align: right;\n",
       "    }\n",
       "</style>\n",
       "<table border=\"1\" class=\"dataframe\">\n",
       "  <thead>\n",
       "    <tr style=\"text-align: right;\">\n",
       "      <th></th>\n",
       "      <th>ID</th>\n",
       "      <th>M/F</th>\n",
       "      <th>Hand</th>\n",
       "      <th>Age</th>\n",
       "      <th>Educ</th>\n",
       "      <th>SES</th>\n",
       "      <th>MMSE</th>\n",
       "      <th>CDR</th>\n",
       "      <th>eTIV</th>\n",
       "      <th>nWBV</th>\n",
       "      <th>ASF</th>\n",
       "      <th>Delay</th>\n",
       "    </tr>\n",
       "  </thead>\n",
       "  <tbody>\n",
       "    <tr>\n",
       "      <th>0</th>\n",
       "      <td>OAS1_0001_MR1</td>\n",
       "      <td>0</td>\n",
       "      <td>R</td>\n",
       "      <td>74</td>\n",
       "      <td>2</td>\n",
       "      <td>3</td>\n",
       "      <td>29</td>\n",
       "      <td>0</td>\n",
       "      <td>1344</td>\n",
       "      <td>0.743</td>\n",
       "      <td>1,306</td>\n",
       "      <td>NaN</td>\n",
       "    </tr>\n",
       "    <tr>\n",
       "      <th>1</th>\n",
       "      <td>OAS1_0002_MR1</td>\n",
       "      <td>0</td>\n",
       "      <td>R</td>\n",
       "      <td>55</td>\n",
       "      <td>4</td>\n",
       "      <td>1</td>\n",
       "      <td>29</td>\n",
       "      <td>0</td>\n",
       "      <td>1147</td>\n",
       "      <td>0.810</td>\n",
       "      <td>1,531</td>\n",
       "      <td>NaN</td>\n",
       "    </tr>\n",
       "    <tr>\n",
       "      <th>2</th>\n",
       "      <td>OAS1_0003_MR1</td>\n",
       "      <td>0</td>\n",
       "      <td>R</td>\n",
       "      <td>73</td>\n",
       "      <td>4</td>\n",
       "      <td>3</td>\n",
       "      <td>27</td>\n",
       "      <td>1</td>\n",
       "      <td>1454</td>\n",
       "      <td>0.708</td>\n",
       "      <td>1,207</td>\n",
       "      <td>NaN</td>\n",
       "    </tr>\n",
       "    <tr>\n",
       "      <th>3</th>\n",
       "      <td>OAS1_0010_MR1</td>\n",
       "      <td>1</td>\n",
       "      <td>R</td>\n",
       "      <td>74</td>\n",
       "      <td>5</td>\n",
       "      <td>2</td>\n",
       "      <td>30</td>\n",
       "      <td>0</td>\n",
       "      <td>1636</td>\n",
       "      <td>0.689</td>\n",
       "      <td>1,073</td>\n",
       "      <td>NaN</td>\n",
       "    </tr>\n",
       "    <tr>\n",
       "      <th>4</th>\n",
       "      <td>OAS1_0011_MR1</td>\n",
       "      <td>0</td>\n",
       "      <td>R</td>\n",
       "      <td>52</td>\n",
       "      <td>3</td>\n",
       "      <td>2</td>\n",
       "      <td>30</td>\n",
       "      <td>0</td>\n",
       "      <td>1321</td>\n",
       "      <td>0.827</td>\n",
       "      <td>1,329</td>\n",
       "      <td>NaN</td>\n",
       "    </tr>\n",
       "  </tbody>\n",
       "</table>\n",
       "</div>"
      ],
      "text/plain": [
       "              ID  M/F Hand  Age  Educ  SES  MMSE  CDR  eTIV   nWBV    ASF  \\\n",
       "0  OAS1_0001_MR1    0    R   74     2    3    29    0  1344  0.743  1,306   \n",
       "1  OAS1_0002_MR1    0    R   55     4    1    29    0  1147  0.810  1,531   \n",
       "2  OAS1_0003_MR1    0    R   73     4    3    27    1  1454  0.708  1,207   \n",
       "3  OAS1_0010_MR1    1    R   74     5    2    30    0  1636  0.689  1,073   \n",
       "4  OAS1_0011_MR1    0    R   52     3    2    30    0  1321  0.827  1,329   \n",
       "\n",
       "   Delay  \n",
       "0    NaN  \n",
       "1    NaN  \n",
       "2    NaN  \n",
       "3    NaN  \n",
       "4    NaN  "
      ]
     },
     "execution_count": 55,
     "metadata": {},
     "output_type": "execute_result"
    }
   ],
   "source": [
    "import pandas as pd\n",
    "import numpy as np\n",
    "\n",
    "#maschi 1 femmine 0\n",
    "#directory = '/content/drive/My Drive/progetto stat learning/tabelle'\n",
    "directory = r'C:\\Users\\italo\\OneDrive\\Desktop'\n",
    "file = 'yoo.csv'\n",
    "df_2 = pd.read_csv(f'{directory}/{file}')\n",
    "\n",
    "print(df_2.shape)\n",
    "df_2.head(5)"
   ]
  },
  {
   "cell_type": "code",
   "execution_count": 56,
   "metadata": {},
   "outputs": [
    {
     "data": {
      "text/html": [
       "<div>\n",
       "<style scoped>\n",
       "    .dataframe tbody tr th:only-of-type {\n",
       "        vertical-align: middle;\n",
       "    }\n",
       "\n",
       "    .dataframe tbody tr th {\n",
       "        vertical-align: top;\n",
       "    }\n",
       "\n",
       "    .dataframe thead th {\n",
       "        text-align: right;\n",
       "    }\n",
       "</style>\n",
       "<table border=\"1\" class=\"dataframe\">\n",
       "  <thead>\n",
       "    <tr style=\"text-align: right;\">\n",
       "      <th></th>\n",
       "      <th>M/F</th>\n",
       "      <th>Age</th>\n",
       "      <th>Educ</th>\n",
       "      <th>SES</th>\n",
       "      <th>MMSE</th>\n",
       "      <th>CDR</th>\n",
       "      <th>eTIV</th>\n",
       "      <th>nWBV</th>\n",
       "      <th>ASF</th>\n",
       "    </tr>\n",
       "  </thead>\n",
       "  <tbody>\n",
       "    <tr>\n",
       "      <th>0</th>\n",
       "      <td>0</td>\n",
       "      <td>74</td>\n",
       "      <td>2</td>\n",
       "      <td>3</td>\n",
       "      <td>29</td>\n",
       "      <td>0</td>\n",
       "      <td>1344</td>\n",
       "      <td>0.743</td>\n",
       "      <td>1,306</td>\n",
       "    </tr>\n",
       "    <tr>\n",
       "      <th>1</th>\n",
       "      <td>0</td>\n",
       "      <td>55</td>\n",
       "      <td>4</td>\n",
       "      <td>1</td>\n",
       "      <td>29</td>\n",
       "      <td>0</td>\n",
       "      <td>1147</td>\n",
       "      <td>0.810</td>\n",
       "      <td>1,531</td>\n",
       "    </tr>\n",
       "    <tr>\n",
       "      <th>2</th>\n",
       "      <td>0</td>\n",
       "      <td>73</td>\n",
       "      <td>4</td>\n",
       "      <td>3</td>\n",
       "      <td>27</td>\n",
       "      <td>1</td>\n",
       "      <td>1454</td>\n",
       "      <td>0.708</td>\n",
       "      <td>1,207</td>\n",
       "    </tr>\n",
       "    <tr>\n",
       "      <th>3</th>\n",
       "      <td>1</td>\n",
       "      <td>74</td>\n",
       "      <td>5</td>\n",
       "      <td>2</td>\n",
       "      <td>30</td>\n",
       "      <td>0</td>\n",
       "      <td>1636</td>\n",
       "      <td>0.689</td>\n",
       "      <td>1,073</td>\n",
       "    </tr>\n",
       "    <tr>\n",
       "      <th>4</th>\n",
       "      <td>0</td>\n",
       "      <td>52</td>\n",
       "      <td>3</td>\n",
       "      <td>2</td>\n",
       "      <td>30</td>\n",
       "      <td>0</td>\n",
       "      <td>1321</td>\n",
       "      <td>0.827</td>\n",
       "      <td>1,329</td>\n",
       "    </tr>\n",
       "  </tbody>\n",
       "</table>\n",
       "</div>"
      ],
      "text/plain": [
       "   M/F  Age  Educ  SES  MMSE  CDR  eTIV   nWBV    ASF\n",
       "0    0   74     2    3    29    0  1344  0.743  1,306\n",
       "1    0   55     4    1    29    0  1147  0.810  1,531\n",
       "2    0   73     4    3    27    1  1454  0.708  1,207\n",
       "3    1   74     5    2    30    0  1636  0.689  1,073\n",
       "4    0   52     3    2    30    0  1321  0.827  1,329"
      ]
     },
     "execution_count": 56,
     "metadata": {},
     "output_type": "execute_result"
    }
   ],
   "source": [
    "df_2 = df_2.drop(columns = ['Hand', 'Delay', 'ID']) #we dropped these two variables becauese are useless\n",
    "df_2.head()"
   ]
  },
  {
   "cell_type": "code",
   "execution_count": 57,
   "metadata": {},
   "outputs": [
    {
     "name": "stdout",
     "output_type": "stream",
     "text": [
      "[0 1 2 3]\n"
     ]
    }
   ],
   "source": [
    "classes = df_2['CDR'].unique()  #to create a list of labels\n",
    "print(classes)"
   ]
  },
  {
   "cell_type": "code",
   "execution_count": 58,
   "metadata": {},
   "outputs": [],
   "source": [
    "df_2['ASF'] = df_2['ASF'].apply(lambda x: float(x.split()[0].replace(',', '.'))) #now we see ASF like float64 type"
   ]
  },
  {
   "cell_type": "code",
   "execution_count": 59,
   "metadata": {},
   "outputs": [
    {
     "data": {
      "text/plain": [
       "M/F       int64\n",
       "Age       int64\n",
       "Educ      int64\n",
       "SES       int64\n",
       "MMSE      int64\n",
       "CDR       int64\n",
       "eTIV      int64\n",
       "nWBV    float64\n",
       "ASF     float64\n",
       "dtype: object"
      ]
     },
     "execution_count": 59,
     "metadata": {},
     "output_type": "execute_result"
    }
   ],
   "source": [
    "df_2.dtypes"
   ]
  },
  {
   "cell_type": "markdown",
   "metadata": {},
   "source": [
    "## SMOTE"
   ]
  },
  {
   "cell_type": "code",
   "execution_count": 60,
   "metadata": {},
   "outputs": [
    {
     "name": "stdout",
     "output_type": "stream",
     "text": [
      "length of oversampled data is  364\n",
      "Number of Nondementia in oversampled data 91\n",
      "Number of Very Mild Dementia 91\n",
      "Number of Moderate Dementia 91\n",
      "Number of Mild Dementia 91\n",
      "Proportion of Nondementia in oversampled data is  0.25\n",
      "Proportion of Very Mild Dementia in oversampled data is  0.25\n",
      "Proportion of Moderate Dementia in oversampled data is  0.25\n",
      "Proportion of Mild Dementia in oversampled data is  0.25\n"
     ]
    }
   ],
   "source": [
    "#https://machinelearningmastery.com/smote-oversampling-for-imbalanced-classification/\n",
    "\n",
    "from imblearn.over_sampling import SMOTE\n",
    "from sklearn import preprocessing\n",
    "from sklearn.linear_model import LogisticRegression\n",
    "from sklearn.model_selection import train_test_split\n",
    "\n",
    "X = df_2.loc[:, df_2.columns != 'CDR']\n",
    "y = df_2.loc[:, df_2.columns == 'CDR']\n",
    "\n",
    "os = SMOTE(random_state=0, k_neighbors=1)\n",
    "X_train, X_test, y_train, y_test = train_test_split(X, y, test_size=0.3, random_state=0)\n",
    "columns = X_train.columns\n",
    "os_data_X,os_data_y=os.fit_sample(X_train, y_train)\n",
    "\n",
    "#os_data_X = df_2[['M/F', 'Age', 'Educ', 'SES', 'MMSE', 'eTIV', 'nWBV', 'ASF']]\n",
    "#os_data_y= df_2[['CDR']]\n",
    "\n",
    "os_data_X = pd.DataFrame(data=os_data_X,columns= ['M/F', 'Age', 'Educ', 'SES', 'MMSE', 'eTIV', 'nWBV', 'ASF'])\n",
    "os_data_y= pd.DataFrame(data=os_data_y,columns=['CDR']) #CDR because is our target variable\n",
    "\n",
    "# we can Check the numbers of our data\n",
    "print(\"length of oversampled data is \",len(os_data_X))\n",
    "print(\"Number of Nondementia in oversampled data\",len(os_data_y[os_data_y['CDR']==0]))\n",
    "print(\"Number of Very Mild Dementia\",len(os_data_y[os_data_y['CDR']==1]))\n",
    "print(\"Number of Moderate Dementia\",len(os_data_y[os_data_y['CDR']==3]))\n",
    "print(\"Number of Mild Dementia\",len(os_data_y[os_data_y['CDR']==2]))\n",
    "print(\"Proportion of Nondementia in oversampled data is \",len(os_data_y[os_data_y['CDR']==0])/len(os_data_X))\n",
    "print(\"Proportion of Very Mild Dementia in oversampled data is \",len(os_data_y[os_data_y['CDR']==3])/len(os_data_X))\n",
    "print(\"Proportion of Moderate Dementia in oversampled data is \",len(os_data_y[os_data_y['CDR']==2])/len(os_data_X))\n",
    "print(\"Proportion of Mild Dementia in oversampled data is \",len(os_data_y[os_data_y['CDR']==1])/len(os_data_X))"
   ]
  },
  {
   "cell_type": "code",
   "execution_count": 61,
   "metadata": {},
   "outputs": [],
   "source": [
    "df_2['CDR'] = df_2['CDR'].apply(lambda x: float(x))\n",
    "#df_2['CDR']"
   ]
  },
  {
   "cell_type": "markdown",
   "metadata": {},
   "source": [
    "## Multinomial Logistic Regression"
   ]
  },
  {
   "cell_type": "code",
   "execution_count": 62,
   "metadata": {},
   "outputs": [
    {
     "name": "stdout",
     "output_type": "stream",
     "text": [
      "Accuracy is: 0.8181818181818182\n"
     ]
    }
   ],
   "source": [
    "#multinomial logistic regression\n",
    "#multinomial logistic regression is a classification method that generalizes logistic regression to multiclass problems, \n",
    "#i.e. with more than two possible discrete outcomes. That is, it is a model that is used to predict the probabilities of \n",
    "#the different possible outcomes of a categorically distributed dependent variable, given a set of independent variables \n",
    "#(which may be real-valued, binary-valued, categorical-valued, etc.).\n",
    "\n",
    "from sklearn.metrics import confusion_matrix, accuracy_score\n",
    "from sklearn.linear_model import LogisticRegression\n",
    "from sklearn import linear_model\n",
    "import numpy as np\n",
    "from sklearn import metrics\n",
    "from sklearn.preprocessing import StandardScaler\n",
    "\n",
    "X = df_2.loc[:, df_2.columns != 'CDR']\n",
    "y = df_2.loc[:, df_2.columns == 'CDR'] #this is target variable\n",
    "\n",
    "X_train, X_test, y_train, y_test = train_test_split(os_data_X, os_data_y, test_size=0.3, random_state=0)\n",
    "\n",
    "# Feature Scaling\n",
    "\n",
    "sc = StandardScaler()\n",
    "X_train = sc.fit_transform(X_train)\n",
    "X_test = sc.transform(X_test)\n",
    "y_train = np.array(y_train)\n",
    "y_train = y_train.ravel()\n",
    "#print(X_train.shape)\n",
    "#print(y_train.shape)\n",
    "# Fitting Logistic Regression to the Training set\n",
    "classifier = LogisticRegression(multi_class='multinomial', solver='lbfgs', max_iter = 100000, random_state = 0)\n",
    "classifier.fit(X_train, y_train)\n",
    "\n",
    "# Predicting the Test set results\n",
    "y_pred = classifier.predict(X_test)\n",
    "\n",
    "# Making the Confusion Matrix\n",
    "cm = confusion_matrix(y_test, y_pred)\n",
    "acc_score = accuracy_score(y_test, y_pred)\n",
    "\n",
    "print(\"Accuracy is:\",metrics.accuracy_score(y_test, y_pred))\n",
    "#print(\"Precision:\",metrics.precision_score(y_test, y_pred, num_classes = 4, pos_indices = [0, 1, 2, 3]))\n",
    "#print(\"Recall:\",metrics.recall_score(y_test, y_pred))\n",
    "#y = np.array(os_data_y)\n",
    "#y = y.ravel()\n",
    "#mul_lr = linear_model.LogisticRegression(multi_class='multinomial', solver='lbfgs', max_iter = 100000).fit(os_data_X, y)\n",
    "#print (\"Multinomial Logistic regression Train Accuracy: \", metrics.accuracy_score(y_train, mul_lr.predict(X_train)))\n",
    "#print (\"Multinomial Logistic regression Test Accuracy: \", metrics.accuracy_score(y_test, mul_lr.predict(X_test)))"
   ]
  },
  {
   "cell_type": "markdown",
   "metadata": {},
   "source": [
    "## Confusion Matrix"
   ]
  },
  {
   "cell_type": "code",
   "execution_count": 63,
   "metadata": {},
   "outputs": [
    {
     "data": {
      "image/png": "[encoded data removed]",
      "text/plain": [
       "<Figure size 648x648 with 2 Axes>"
      ]
     },
     "metadata": {
      "needs_background": "light"
     },
     "output_type": "display_data"
    }
   ],
   "source": [
    "import matplotlib.pyplot as plt\n",
    "import seaborn as sns\n",
    "from sklearn import metrics\n",
    "\n",
    "cm = metrics.confusion_matrix(y_test, y_pred)\n",
    "#print(cm)\n",
    "plt.figure(figsize=(9,9))\n",
    "sns.heatmap(cm, annot=True, fmt=\".3f\", linewidths=.5, square = True, cmap = 'Blues_r');\n",
    "plt.ylabel('Actual label');\n",
    "plt.xlabel('Predicted label');\n",
    "all_sample_title = 'Accuracy Test Score: {0}'.format(acc_score)\n",
    "plt.title(all_sample_title, size = 15)\n",
    "plt.show()"
   ]
  },
  {
   "cell_type": "markdown",
   "metadata": {},
   "source": [
    "# RFE"
   ]
  },
  {
   "cell_type": "code",
   "execution_count": 64,
   "metadata": {},
   "outputs": [
    {
     "name": "stdout",
     "output_type": "stream",
     "text": [
      "Variables, except target variable, are: ['M/F', 'Age', 'Educ', 'SES', 'MMSE', 'eTIV', 'nWBV', 'ASF'] \n",
      "\n",
      "[False False  True  True  True False False  True]\n",
      "[3 4 1 1 1 5 2 1]\n"
     ]
    }
   ],
   "source": [
    "from sklearn.feature_selection import RFE\n",
    "from sklearn.linear_model import LogisticRegression\n",
    "import warnings\n",
    "\n",
    "data_final_vars=df_2.columns.values.tolist()\n",
    "#print('Our starting variables are: ' + str(data_final_vars).replace('[', '').replace(']', ''), '\\n')\n",
    "print('Variables, except target variable, are: ' + str(os_data_X.columns.values.tolist()), '\\n')\n",
    "warnings.filterwarnings(\"ignore\")\n",
    "#y=['CDR']\n",
    "#X=['M/F', 'Age', 'Educ', 'SES', 'MMSE', 'eTIV', 'nWBV', 'ASF']\n",
    "\n",
    "logreg = LogisticRegression(max_iter=100000)\n",
    "rfe = RFE(logreg, 4) #we selected first four variables\n",
    "rfe = rfe.fit(os_data_X, os_data_y.values.ravel())\n",
    "print(rfe.support_) #this is the mask of selected features\n",
    "print(rfe.ranking_) #The feature ranking, such that ranking_[i] corresponds to the ranking position of the i-th feature\n",
    "#print(rfe.estimator_)\n",
    "#print(rfe[rfe.support_])\n"
   ]
  },
  {
   "cell_type": "code",
   "execution_count": 65,
   "metadata": {},
   "outputs": [
    {
     "data": {
      "text/html": [
       "<div>\n",
       "<style scoped>\n",
       "    .dataframe tbody tr th:only-of-type {\n",
       "        vertical-align: middle;\n",
       "    }\n",
       "\n",
       "    .dataframe tbody tr th {\n",
       "        vertical-align: top;\n",
       "    }\n",
       "\n",
       "    .dataframe thead th {\n",
       "        text-align: right;\n",
       "    }\n",
       "</style>\n",
       "<table border=\"1\" class=\"dataframe\">\n",
       "  <thead>\n",
       "    <tr style=\"text-align: right;\">\n",
       "      <th></th>\n",
       "      <th>Educ</th>\n",
       "      <th>SES</th>\n",
       "      <th>MMSE</th>\n",
       "      <th>ASF</th>\n",
       "    </tr>\n",
       "  </thead>\n",
       "  <tbody>\n",
       "    <tr>\n",
       "      <th>0</th>\n",
       "      <td>5</td>\n",
       "      <td>1</td>\n",
       "      <td>30</td>\n",
       "      <td>1.057</td>\n",
       "    </tr>\n",
       "    <tr>\n",
       "      <th>1</th>\n",
       "      <td>2</td>\n",
       "      <td>3</td>\n",
       "      <td>28</td>\n",
       "      <td>1.281</td>\n",
       "    </tr>\n",
       "    <tr>\n",
       "      <th>2</th>\n",
       "      <td>1</td>\n",
       "      <td>5</td>\n",
       "      <td>23</td>\n",
       "      <td>1.200</td>\n",
       "    </tr>\n",
       "    <tr>\n",
       "      <th>3</th>\n",
       "      <td>2</td>\n",
       "      <td>3</td>\n",
       "      <td>25</td>\n",
       "      <td>1.349</td>\n",
       "    </tr>\n",
       "    <tr>\n",
       "      <th>4</th>\n",
       "      <td>2</td>\n",
       "      <td>4</td>\n",
       "      <td>20</td>\n",
       "      <td>1.175</td>\n",
       "    </tr>\n",
       "  </tbody>\n",
       "</table>\n",
       "</div>"
      ],
      "text/plain": [
       "   Educ  SES  MMSE    ASF\n",
       "0     5    1    30  1.057\n",
       "1     2    3    28  1.281\n",
       "2     1    5    23  1.200\n",
       "3     2    3    25  1.349\n",
       "4     2    4    20  1.175"
      ]
     },
     "execution_count": 65,
     "metadata": {},
     "output_type": "execute_result"
    }
   ],
   "source": [
    "df_RFE = os_data_X[:] #creates a copy of the previous dataframe\n",
    "df_RFE = df_RFE.drop(columns = ['M/F', 'Age', 'eTIV', 'nWBV']) #dataframe with features selected with RFE\n",
    "df_RFE.head()\n",
    "#df_RFE = df_2.drop(columns = ['Hand', 'Delay', 'ID'])"
   ]
  },
  {
   "cell_type": "markdown",
   "metadata": {},
   "source": [
    "## Multinomial Logistic Regression on dataframe post RFE"
   ]
  },
  {
   "cell_type": "code",
   "execution_count": 66,
   "metadata": {},
   "outputs": [
    {
     "name": "stdout",
     "output_type": "stream",
     "text": [
      "Test score is: 0.8090909090909091\n"
     ]
    }
   ],
   "source": [
    "#https://lorenzogovoni.com/feature-selection-rfe/\n",
    "\n",
    "#X = df_RFE.loc[:, df_2.columns != 'CDR']\n",
    "#y = df_RFE.loc[:, df_2.columns == 'CDR']\n",
    "X = df_RFE.loc[:]\n",
    "y = df_RFE.loc[:]\n",
    "\n",
    "X_train, X_test, y_train, y_test = train_test_split(df_RFE, os_data_y, test_size=0.3, random_state=0)\n",
    "\n",
    "# Feature Scaling\n",
    "\n",
    "sc = StandardScaler()\n",
    "X_train = sc.fit_transform(X_train)\n",
    "X_test = sc.transform(X_test)\n",
    "y_train = np.array(y_train)\n",
    "y_train = y_train.ravel()\n",
    "\n",
    "# Fitting Logistic Regression to the Training set\n",
    "classifier = LogisticRegression(multi_class='multinomial', solver='lbfgs', max_iter = 100000, random_state = 0)\n",
    "classifier.fit(X_train, y_train)\n",
    "\n",
    "# Predicting the Test set results\n",
    "y_pred = classifier.predict(X_test)\n",
    "\n",
    "# Making the Confusion Matrix\n",
    "cm = confusion_matrix(y_test, y_pred)\n",
    "acc_score = accuracy_score(y_test, y_pred)\n",
    "print('Test score is: ' + str(acc_score))"
   ]
  },
  {
   "cell_type": "markdown",
   "metadata": {},
   "source": [
    "## Confusion matrix"
   ]
  },
  {
   "cell_type": "code",
   "execution_count": 67,
   "metadata": {},
   "outputs": [
    {
     "data": {
      "image/png": "[encoded data removed]",
      "text/plain": [
       "<Figure size 648x648 with 2 Axes>"
      ]
     },
     "metadata": {
      "needs_background": "light"
     },
     "output_type": "display_data"
    }
   ],
   "source": [
    "cm = metrics.confusion_matrix(y_test, y_pred)\n",
    "#print(cm)\n",
    "plt.figure(figsize=(9,9))\n",
    "sns.heatmap(cm, annot=True, fmt=\".3f\", linewidths=.5, square = True, cmap = 'Blues_r');\n",
    "plt.ylabel('Actual label');\n",
    "plt.xlabel('Predicted label');\n",
    "all_sample_title = 'Accuracy Test Score: {0}'.format(acc_score)\n",
    "plt.title(all_sample_title, size = 15)\n",
    "plt.show()"
   ]
  },
  {
   "cell_type": "markdown",
   "metadata": {},
   "source": [
    "#### now decided to merge labels 2 and 3 and run the models"
   ]
  },
  {
   "cell_type": "code",
   "execution_count": 68,
   "metadata": {},
   "outputs": [],
   "source": [
    "# Nondementia                            0\n",
    "# Very Mild Dementia                     1\n",
    "# Mild Dementia and Moderate Dementia    4"
   ]
  },
  {
   "cell_type": "code",
   "execution_count": 69,
   "metadata": {},
   "outputs": [
    {
     "name": "stdout",
     "output_type": "stream",
     "text": [
      "(216, 12)\n"
     ]
    },
    {
     "data": {
      "text/html": [
       "<div>\n",
       "<style scoped>\n",
       "    .dataframe tbody tr th:only-of-type {\n",
       "        vertical-align: middle;\n",
       "    }\n",
       "\n",
       "    .dataframe tbody tr th {\n",
       "        vertical-align: top;\n",
       "    }\n",
       "\n",
       "    .dataframe thead th {\n",
       "        text-align: right;\n",
       "    }\n",
       "</style>\n",
       "<table border=\"1\" class=\"dataframe\">\n",
       "  <thead>\n",
       "    <tr style=\"text-align: right;\">\n",
       "      <th></th>\n",
       "      <th>ID</th>\n",
       "      <th>M/F</th>\n",
       "      <th>Hand</th>\n",
       "      <th>Age</th>\n",
       "      <th>Educ</th>\n",
       "      <th>SES</th>\n",
       "      <th>MMSE</th>\n",
       "      <th>CDR</th>\n",
       "      <th>eTIV</th>\n",
       "      <th>nWBV</th>\n",
       "      <th>ASF</th>\n",
       "      <th>Delay</th>\n",
       "    </tr>\n",
       "  </thead>\n",
       "  <tbody>\n",
       "    <tr>\n",
       "      <th>0</th>\n",
       "      <td>OAS1_0001_MR1</td>\n",
       "      <td>0</td>\n",
       "      <td>R</td>\n",
       "      <td>74</td>\n",
       "      <td>2</td>\n",
       "      <td>3</td>\n",
       "      <td>29</td>\n",
       "      <td>0</td>\n",
       "      <td>1344</td>\n",
       "      <td>0.743</td>\n",
       "      <td>1,306</td>\n",
       "      <td>NaN</td>\n",
       "    </tr>\n",
       "    <tr>\n",
       "      <th>1</th>\n",
       "      <td>OAS1_0002_MR1</td>\n",
       "      <td>0</td>\n",
       "      <td>R</td>\n",
       "      <td>55</td>\n",
       "      <td>4</td>\n",
       "      <td>1</td>\n",
       "      <td>29</td>\n",
       "      <td>0</td>\n",
       "      <td>1147</td>\n",
       "      <td>0.810</td>\n",
       "      <td>1,531</td>\n",
       "      <td>NaN</td>\n",
       "    </tr>\n",
       "    <tr>\n",
       "      <th>2</th>\n",
       "      <td>OAS1_0003_MR1</td>\n",
       "      <td>0</td>\n",
       "      <td>R</td>\n",
       "      <td>73</td>\n",
       "      <td>4</td>\n",
       "      <td>3</td>\n",
       "      <td>27</td>\n",
       "      <td>1</td>\n",
       "      <td>1454</td>\n",
       "      <td>0.708</td>\n",
       "      <td>1,207</td>\n",
       "      <td>NaN</td>\n",
       "    </tr>\n",
       "    <tr>\n",
       "      <th>3</th>\n",
       "      <td>OAS1_0010_MR1</td>\n",
       "      <td>1</td>\n",
       "      <td>R</td>\n",
       "      <td>74</td>\n",
       "      <td>5</td>\n",
       "      <td>2</td>\n",
       "      <td>30</td>\n",
       "      <td>0</td>\n",
       "      <td>1636</td>\n",
       "      <td>0.689</td>\n",
       "      <td>1,073</td>\n",
       "      <td>NaN</td>\n",
       "    </tr>\n",
       "    <tr>\n",
       "      <th>4</th>\n",
       "      <td>OAS1_0011_MR1</td>\n",
       "      <td>0</td>\n",
       "      <td>R</td>\n",
       "      <td>52</td>\n",
       "      <td>3</td>\n",
       "      <td>2</td>\n",
       "      <td>30</td>\n",
       "      <td>0</td>\n",
       "      <td>1321</td>\n",
       "      <td>0.827</td>\n",
       "      <td>1,329</td>\n",
       "      <td>NaN</td>\n",
       "    </tr>\n",
       "  </tbody>\n",
       "</table>\n",
       "</div>"
      ],
      "text/plain": [
       "              ID  M/F Hand  Age  Educ  SES  MMSE  CDR  eTIV   nWBV    ASF  \\\n",
       "0  OAS1_0001_MR1    0    R   74     2    3    29    0  1344  0.743  1,306   \n",
       "1  OAS1_0002_MR1    0    R   55     4    1    29    0  1147  0.810  1,531   \n",
       "2  OAS1_0003_MR1    0    R   73     4    3    27    1  1454  0.708  1,207   \n",
       "3  OAS1_0010_MR1    1    R   74     5    2    30    0  1636  0.689  1,073   \n",
       "4  OAS1_0011_MR1    0    R   52     3    2    30    0  1321  0.827  1,329   \n",
       "\n",
       "   Delay  \n",
       "0    NaN  \n",
       "1    NaN  \n",
       "2    NaN  \n",
       "3    NaN  \n",
       "4    NaN  "
      ]
     },
     "execution_count": 69,
     "metadata": {},
     "output_type": "execute_result"
    }
   ],
   "source": [
    "import pandas as pd\n",
    "import numpy as np\n",
    "\n",
    "#maschi 1 femmine 0\n",
    "#directory = '/content/drive/My Drive/progetto stat learning/tabelle'\n",
    "directory = r'C:\\Users\\italo\\OneDrive\\Desktop\\alzheimer'\n",
    "file = 'our_merged_dataset.csv'\n",
    "df_2 = pd.read_csv(f'{directory}/{file}')\n",
    "\n",
    "print(df_2.shape)\n",
    "df_2.head(5)"
   ]
  },
  {
   "cell_type": "code",
   "execution_count": 70,
   "metadata": {},
   "outputs": [
    {
     "data": {
      "text/html": [
       "<div>\n",
       "<style scoped>\n",
       "    .dataframe tbody tr th:only-of-type {\n",
       "        vertical-align: middle;\n",
       "    }\n",
       "\n",
       "    .dataframe tbody tr th {\n",
       "        vertical-align: top;\n",
       "    }\n",
       "\n",
       "    .dataframe thead th {\n",
       "        text-align: right;\n",
       "    }\n",
       "</style>\n",
       "<table border=\"1\" class=\"dataframe\">\n",
       "  <thead>\n",
       "    <tr style=\"text-align: right;\">\n",
       "      <th></th>\n",
       "      <th>M/F</th>\n",
       "      <th>Age</th>\n",
       "      <th>Educ</th>\n",
       "      <th>SES</th>\n",
       "      <th>MMSE</th>\n",
       "      <th>CDR</th>\n",
       "      <th>eTIV</th>\n",
       "      <th>nWBV</th>\n",
       "      <th>ASF</th>\n",
       "    </tr>\n",
       "  </thead>\n",
       "  <tbody>\n",
       "    <tr>\n",
       "      <th>0</th>\n",
       "      <td>0</td>\n",
       "      <td>74</td>\n",
       "      <td>2</td>\n",
       "      <td>3</td>\n",
       "      <td>29</td>\n",
       "      <td>0</td>\n",
       "      <td>1344</td>\n",
       "      <td>0.743</td>\n",
       "      <td>1,306</td>\n",
       "    </tr>\n",
       "    <tr>\n",
       "      <th>1</th>\n",
       "      <td>0</td>\n",
       "      <td>55</td>\n",
       "      <td>4</td>\n",
       "      <td>1</td>\n",
       "      <td>29</td>\n",
       "      <td>0</td>\n",
       "      <td>1147</td>\n",
       "      <td>0.810</td>\n",
       "      <td>1,531</td>\n",
       "    </tr>\n",
       "    <tr>\n",
       "      <th>2</th>\n",
       "      <td>0</td>\n",
       "      <td>73</td>\n",
       "      <td>4</td>\n",
       "      <td>3</td>\n",
       "      <td>27</td>\n",
       "      <td>1</td>\n",
       "      <td>1454</td>\n",
       "      <td>0.708</td>\n",
       "      <td>1,207</td>\n",
       "    </tr>\n",
       "    <tr>\n",
       "      <th>3</th>\n",
       "      <td>1</td>\n",
       "      <td>74</td>\n",
       "      <td>5</td>\n",
       "      <td>2</td>\n",
       "      <td>30</td>\n",
       "      <td>0</td>\n",
       "      <td>1636</td>\n",
       "      <td>0.689</td>\n",
       "      <td>1,073</td>\n",
       "    </tr>\n",
       "    <tr>\n",
       "      <th>4</th>\n",
       "      <td>0</td>\n",
       "      <td>52</td>\n",
       "      <td>3</td>\n",
       "      <td>2</td>\n",
       "      <td>30</td>\n",
       "      <td>0</td>\n",
       "      <td>1321</td>\n",
       "      <td>0.827</td>\n",
       "      <td>1,329</td>\n",
       "    </tr>\n",
       "  </tbody>\n",
       "</table>\n",
       "</div>"
      ],
      "text/plain": [
       "   M/F  Age  Educ  SES  MMSE  CDR  eTIV   nWBV    ASF\n",
       "0    0   74     2    3    29    0  1344  0.743  1,306\n",
       "1    0   55     4    1    29    0  1147  0.810  1,531\n",
       "2    0   73     4    3    27    1  1454  0.708  1,207\n",
       "3    1   74     5    2    30    0  1636  0.689  1,073\n",
       "4    0   52     3    2    30    0  1321  0.827  1,329"
      ]
     },
     "execution_count": 70,
     "metadata": {},
     "output_type": "execute_result"
    }
   ],
   "source": [
    "df_2 = df_2.drop(columns = ['Hand', 'Delay', 'ID']) #we dropped these two variables becauese are useless\n",
    "df_2.head()"
   ]
  },
  {
   "cell_type": "code",
   "execution_count": 71,
   "metadata": {},
   "outputs": [
    {
     "name": "stdout",
     "output_type": "stream",
     "text": [
      "[0 1 4]\n"
     ]
    }
   ],
   "source": [
    "classes = df_2['CDR'].unique()  #to create a list of labels\n",
    "print(classes)"
   ]
  },
  {
   "cell_type": "code",
   "execution_count": 72,
   "metadata": {},
   "outputs": [],
   "source": [
    "df_2['ASF'] = df_2['ASF'].apply(lambda x: float(x.split()[0].replace(',', '.'))) #now we see ASF like float64 type"
   ]
  },
  {
   "cell_type": "code",
   "execution_count": 73,
   "metadata": {},
   "outputs": [
    {
     "data": {
      "text/plain": [
       "M/F       int64\n",
       "Age       int64\n",
       "Educ      int64\n",
       "SES       int64\n",
       "MMSE      int64\n",
       "CDR       int64\n",
       "eTIV      int64\n",
       "nWBV    float64\n",
       "ASF     float64\n",
       "dtype: object"
      ]
     },
     "execution_count": 73,
     "metadata": {},
     "output_type": "execute_result"
    }
   ],
   "source": [
    "df_2.dtypes"
   ]
  },
  {
   "cell_type": "markdown",
   "metadata": {},
   "source": [
    "## SMOTE"
   ]
  },
  {
   "cell_type": "code",
   "execution_count": 74,
   "metadata": {},
   "outputs": [
    {
     "name": "stdout",
     "output_type": "stream",
     "text": [
      "length of oversampled data is  273\n",
      "Number of Nondementia in oversampled data 91\n",
      "Number of Very Mild Dementia 91\n",
      "Number of Mild and Moderate Dementia 91\n",
      "Proportion of Nondementia in oversampled data is  0.3333333333333333\n",
      "Proportion of Very Mild Dementia in oversampled data is  0.3333333333333333\n",
      "Proportion of Mild and Moderate Dementia in oversampled data is  0.3333333333333333\n"
     ]
    }
   ],
   "source": [
    "#https://machinelearningmastery.com/smote-oversampling-for-imbalanced-classification/\n",
    "\n",
    "from imblearn.over_sampling import SMOTE\n",
    "from sklearn import preprocessing\n",
    "from sklearn.linear_model import LogisticRegression\n",
    "from sklearn.model_selection import train_test_split\n",
    "\n",
    "X = df_2.loc[:, df_2.columns != 'CDR']\n",
    "y = df_2.loc[:, df_2.columns == 'CDR']\n",
    "\n",
    "os = SMOTE(random_state=0, k_neighbors=1)\n",
    "X_train, X_test, y_train, y_test = train_test_split(X, y, test_size=0.3, random_state=0)\n",
    "columns = X_train.columns\n",
    "os_data_X,os_data_y=os.fit_sample(X_train, y_train)\n",
    "\n",
    "#os_data_X = df_2[['M/F', 'Age', 'Educ', 'SES', 'MMSE', 'eTIV', 'nWBV', 'ASF']]\n",
    "#os_data_y= df_2[['CDR']]\n",
    "\n",
    "os_data_X = pd.DataFrame(data=os_data_X,columns= ['M/F', 'Age', 'Educ', 'SES', 'MMSE', 'eTIV', 'nWBV', 'ASF'])\n",
    "os_data_y= pd.DataFrame(data=os_data_y,columns=['CDR']) #CDR because is our target variable\n",
    "\n",
    "# we can Check the numbers of our data\n",
    "print(\"length of oversampled data is \",len(os_data_X))\n",
    "print(\"Number of Nondementia in oversampled data\",len(os_data_y[os_data_y['CDR']==0]))\n",
    "print(\"Number of Very Mild Dementia\",len(os_data_y[os_data_y['CDR']==1]))\n",
    "print(\"Number of Mild and Moderate Dementia\",len(os_data_y[os_data_y['CDR']==4]))\n",
    "#print(\"Number of Mild Dementia\",len(os_data_y[os_data_y['CDR']==1]))\n",
    "print(\"Proportion of Nondementia in oversampled data is \",len(os_data_y[os_data_y['CDR']==0])/len(os_data_X))\n",
    "print(\"Proportion of Very Mild Dementia in oversampled data is \",len(os_data_y[os_data_y['CDR']==1])/len(os_data_X))\n",
    "print(\"Proportion of Mild and Moderate Dementia in oversampled data is \",len(os_data_y[os_data_y['CDR']==4])/len(os_data_X))\n",
    "#print(\"Proportion of Mild Dementia in oversampled data is \",len(os_data_y[os_data_y['CDR']==1])/len(os_data_X))"
   ]
  },
  {
   "cell_type": "code",
   "execution_count": 75,
   "metadata": {},
   "outputs": [],
   "source": [
    "df_2['CDR'] = df_2['CDR'].apply(lambda x: float(x))"
   ]
  },
  {
   "cell_type": "markdown",
   "metadata": {},
   "source": [
    "## Multinomial Logistic Regression\n"
   ]
  },
  {
   "cell_type": "code",
   "execution_count": 76,
   "metadata": {},
   "outputs": [
    {
     "name": "stdout",
     "output_type": "stream",
     "text": [
      "Test score is: 0.7195121951219512\n"
     ]
    }
   ],
   "source": [
    "X = df_2.loc[:, df_2.columns != 'CDR']\n",
    "y = df_2.loc[:, df_2.columns == 'CDR'] #this is target variable\n",
    "\n",
    "X_train, X_test, y_train, y_test = train_test_split(os_data_X, os_data_y, test_size=0.3, random_state=0)\n",
    "\n",
    "# Feature Scaling\n",
    "\n",
    "sc = StandardScaler()\n",
    "X_train = sc.fit_transform(X_train)\n",
    "X_test = sc.transform(X_test)\n",
    "y_train = np.array(y_train)\n",
    "y_train = y_train.ravel()\n",
    "\n",
    "# Fitting Logistic Regression to the Training set\n",
    "classifier = LogisticRegression(multi_class='multinomial', solver='lbfgs', max_iter = 100000, random_state = 0)\n",
    "classifier.fit(X_train, y_train)\n",
    "\n",
    "# Predicting the Test set results\n",
    "y_pred = classifier.predict(X_test)\n",
    "\n",
    "# Making the Confusion Matrix\n",
    "cm = confusion_matrix(y_test, y_pred)\n",
    "acc_score = accuracy_score(y_test, y_pred)\n",
    "print('Test score is: ' + str(acc_score))"
   ]
  },
  {
   "cell_type": "code",
   "execution_count": 77,
   "metadata": {},
   "outputs": [
    {
     "data": {
      "image/png": "[encoded data removed]",
      "text/plain": [
       "<Figure size 648x648 with 2 Axes>"
      ]
     },
     "metadata": {
      "needs_background": "light"
     },
     "output_type": "display_data"
    }
   ],
   "source": [
    "cm = metrics.confusion_matrix(y_test, y_pred)\n",
    "#print(cm)\n",
    "plt.figure(figsize=(9,9))\n",
    "sns.heatmap(cm, annot=True, fmt=\".3f\", linewidths=.5, square = True, cmap = 'Blues_r');\n",
    "plt.ylabel('Actual label');\n",
    "plt.xlabel('Predicted label');\n",
    "all_sample_title = 'Accuracy Test Score: {0}'.format(acc_score)\n",
    "plt.title(all_sample_title, size = 15)\n",
    "plt.show()"
   ]
  },
  {
   "cell_type": "markdown",
   "metadata": {},
   "source": [
    "# RFE"
   ]
  },
  {
   "cell_type": "code",
   "execution_count": 78,
   "metadata": {},
   "outputs": [
    {
     "name": "stdout",
     "output_type": "stream",
     "text": [
      "Variables, except target variable, are: ['M/F', 'Age', 'Educ', 'SES', 'MMSE', 'eTIV', 'nWBV', 'ASF'] \n",
      "\n",
      "[ True False False False  True False  True  True]\n",
      "[1 4 2 3 1 5 1 1]\n"
     ]
    }
   ],
   "source": [
    "import warnings\n",
    "data_final_vars=df_2.columns.values.tolist()\n",
    "#print('Our starting variables are: ' + str(data_final_vars).replace('[', '').replace(']', ''), '\\n')\n",
    "print('Variables, except target variable, are: ' + str(os_data_X.columns.values.tolist()), '\\n')\n",
    "warnings.filterwarnings(\"ignore\")\n",
    "#y=['CDR']\n",
    "#X=['M/F', 'Age', 'Educ', 'SES', 'MMSE', 'eTIV', 'nWBV', 'ASF']\n",
    "\n",
    "logreg = LogisticRegression(max_iter=100000)\n",
    "rfe = RFE(logreg, 4) #we selected first four variables\n",
    "rfe = rfe.fit(os_data_X, os_data_y.values.ravel())\n",
    "print(rfe.support_) #this is the mask of selected features\n",
    "print(rfe.ranking_) #The feature ranking, such that ranking_[i] corresponds to the ranking position of the i-th feature"
   ]
  },
  {
   "cell_type": "code",
   "execution_count": 79,
   "metadata": {},
   "outputs": [
    {
     "data": {
      "text/html": [
       "<div>\n",
       "<style scoped>\n",
       "    .dataframe tbody tr th:only-of-type {\n",
       "        vertical-align: middle;\n",
       "    }\n",
       "\n",
       "    .dataframe tbody tr th {\n",
       "        vertical-align: top;\n",
       "    }\n",
       "\n",
       "    .dataframe thead th {\n",
       "        text-align: right;\n",
       "    }\n",
       "</style>\n",
       "<table border=\"1\" class=\"dataframe\">\n",
       "  <thead>\n",
       "    <tr style=\"text-align: right;\">\n",
       "      <th></th>\n",
       "      <th>M/F</th>\n",
       "      <th>MMSE</th>\n",
       "      <th>nWBV</th>\n",
       "      <th>ASF</th>\n",
       "    </tr>\n",
       "  </thead>\n",
       "  <tbody>\n",
       "    <tr>\n",
       "      <th>0</th>\n",
       "      <td>1</td>\n",
       "      <td>30</td>\n",
       "      <td>0.739</td>\n",
       "      <td>1.057</td>\n",
       "    </tr>\n",
       "    <tr>\n",
       "      <th>1</th>\n",
       "      <td>0</td>\n",
       "      <td>28</td>\n",
       "      <td>0.765</td>\n",
       "      <td>1.281</td>\n",
       "    </tr>\n",
       "    <tr>\n",
       "      <th>2</th>\n",
       "      <td>0</td>\n",
       "      <td>23</td>\n",
       "      <td>0.697</td>\n",
       "      <td>1.200</td>\n",
       "    </tr>\n",
       "    <tr>\n",
       "      <th>3</th>\n",
       "      <td>1</td>\n",
       "      <td>25</td>\n",
       "      <td>0.645</td>\n",
       "      <td>1.349</td>\n",
       "    </tr>\n",
       "    <tr>\n",
       "      <th>4</th>\n",
       "      <td>1</td>\n",
       "      <td>20</td>\n",
       "      <td>0.665</td>\n",
       "      <td>1.175</td>\n",
       "    </tr>\n",
       "  </tbody>\n",
       "</table>\n",
       "</div>"
      ],
      "text/plain": [
       "   M/F  MMSE   nWBV    ASF\n",
       "0    1    30  0.739  1.057\n",
       "1    0    28  0.765  1.281\n",
       "2    0    23  0.697  1.200\n",
       "3    1    25  0.645  1.349\n",
       "4    1    20  0.665  1.175"
      ]
     },
     "execution_count": 79,
     "metadata": {},
     "output_type": "execute_result"
    }
   ],
   "source": [
    "df_RFE = os_data_X[:] #creates a copy of the previous dataframe\n",
    "df_RFE = df_RFE.drop(columns = ['Educ', 'Age', 'SES', 'eTIV']) #dataframe with features selected with RFE\n",
    "df_RFE.head()"
   ]
  },
  {
   "cell_type": "markdown",
   "metadata": {},
   "source": [
    "## Multinomial Logistic Regression on dataframe post RFE"
   ]
  },
  {
   "cell_type": "code",
   "execution_count": 80,
   "metadata": {},
   "outputs": [
    {
     "name": "stdout",
     "output_type": "stream",
     "text": [
      "Test score is: 0.7073170731707317\n"
     ]
    }
   ],
   "source": [
    "#https://lorenzogovoni.com/feature-selection-rfe/\n",
    "\n",
    "#X = df_RFE.loc[:, df_2.columns != 'CDR']\n",
    "#y = df_RFE.loc[:, df_2.columns == 'CDR']\n",
    "X = df_RFE.loc[:]\n",
    "y = df_RFE.loc[:]\n",
    "\n",
    "X_train, X_test, y_train, y_test = train_test_split(df_RFE, os_data_y, test_size=0.3, random_state=0)\n",
    "\n",
    "# Feature Scaling\n",
    "\n",
    "sc = StandardScaler()\n",
    "X_train = sc.fit_transform(X_train)\n",
    "X_test = sc.transform(X_test)\n",
    "y_train = np.array(y_train)\n",
    "y_train = y_train.ravel()\n",
    "\n",
    "# Fitting Logistic Regression to the Training set\n",
    "classifier = LogisticRegression(multi_class='multinomial', solver='lbfgs', max_iter = 100000, random_state = 0)\n",
    "classifier.fit(X_train, y_train)\n",
    "\n",
    "# Predicting the Test set results\n",
    "y_pred = classifier.predict(X_test)\n",
    "\n",
    "# Making the Confusion Matrix\n",
    "cm = confusion_matrix(y_test, y_pred)\n",
    "acc_score = accuracy_score(y_test, y_pred)\n",
    "print('Test score is: ' + str(acc_score))"
   ]
  },
  {
   "cell_type": "markdown",
   "metadata": {},
   "source": [
    "## Confusion matrix\n"
   ]
  },
  {
   "cell_type": "code",
   "execution_count": 81,
   "metadata": {},
   "outputs": [
    {
     "data": {
      "image/png": "[encoded data removed]",
      "text/plain": [
       "<Figure size 648x648 with 2 Axes>"
      ]
     },
     "metadata": {
      "needs_background": "light"
     },
     "output_type": "display_data"
    }
   ],
   "source": [
    "cm = metrics.confusion_matrix(y_test, y_pred)\n",
    "#print(cm)\n",
    "plt.figure(figsize=(9,9))\n",
    "sns.heatmap(cm, annot=True, fmt=\".3f\", linewidths=.5, square = True, cmap = 'Blues_r');\n",
    "plt.ylabel('Actual label');\n",
    "plt.xlabel('Predicted label');\n",
    "all_sample_title = 'Accuracy Test Score: {0}'.format(acc_score)\n",
    "plt.title(all_sample_title, size = 15)\n",
    "plt.show()"
   ]
  }
 ],
 "metadata": {
  "kernelspec": {
   "display_name": "Python 3",
   "language": "python",
   "name": "python3"
  },
  "language_info": {
   "codemirror_mode": {
    "name": "ipython",
    "version": 3
   },
   "file_extension": ".py",
   "mimetype": "text/x-python",
   "name": "python",
   "nbconvert_exporter": "python",
   "pygments_lexer": "ipython3",
   "version": "3.7.9"
  }
 },
 "nbformat": 4,
 "nbformat_minor": 4
}
