{
 "cells": [
  {
   "cell_type": "code",
   "execution_count": 1,
   "metadata": {},
   "outputs": [
    {
     "data": {
      "text/html": [
       "<div>\n",
       "<style scoped>\n",
       "    .dataframe tbody tr th:only-of-type {\n",
       "        vertical-align: middle;\n",
       "    }\n",
       "\n",
       "    .dataframe tbody tr th {\n",
       "        vertical-align: top;\n",
       "    }\n",
       "\n",
       "    .dataframe thead th {\n",
       "        text-align: right;\n",
       "    }\n",
       "</style>\n",
       "<table border=\"1\" class=\"dataframe\">\n",
       "  <thead>\n",
       "    <tr style=\"text-align: right;\">\n",
       "      <th></th>\n",
       "      <th>ID</th>\n",
       "      <th>M/F</th>\n",
       "      <th>Hand</th>\n",
       "      <th>Age</th>\n",
       "      <th>Educ</th>\n",
       "      <th>SES</th>\n",
       "      <th>MMSE</th>\n",
       "      <th>CDR</th>\n",
       "      <th>eTIV</th>\n",
       "      <th>nWBV</th>\n",
       "      <th>ASF</th>\n",
       "      <th>Delay</th>\n",
       "    </tr>\n",
       "  </thead>\n",
       "  <tbody>\n",
       "    <tr>\n",
       "      <th>0</th>\n",
       "      <td>OAS1_0001_MR1</td>\n",
       "      <td>0</td>\n",
       "      <td>R</td>\n",
       "      <td>74</td>\n",
       "      <td>2</td>\n",
       "      <td>3</td>\n",
       "      <td>29</td>\n",
       "      <td>0</td>\n",
       "      <td>1344</td>\n",
       "      <td>0.743</td>\n",
       "      <td>1,306</td>\n",
       "      <td>NaN</td>\n",
       "    </tr>\n",
       "    <tr>\n",
       "      <th>1</th>\n",
       "      <td>OAS1_0002_MR1</td>\n",
       "      <td>0</td>\n",
       "      <td>R</td>\n",
       "      <td>55</td>\n",
       "      <td>4</td>\n",
       "      <td>1</td>\n",
       "      <td>29</td>\n",
       "      <td>0</td>\n",
       "      <td>1147</td>\n",
       "      <td>0.810</td>\n",
       "      <td>1,531</td>\n",
       "      <td>NaN</td>\n",
       "    </tr>\n",
       "    <tr>\n",
       "      <th>2</th>\n",
       "      <td>OAS1_0003_MR1</td>\n",
       "      <td>0</td>\n",
       "      <td>R</td>\n",
       "      <td>73</td>\n",
       "      <td>4</td>\n",
       "      <td>3</td>\n",
       "      <td>27</td>\n",
       "      <td>1</td>\n",
       "      <td>1454</td>\n",
       "      <td>0.708</td>\n",
       "      <td>1,207</td>\n",
       "      <td>NaN</td>\n",
       "    </tr>\n",
       "    <tr>\n",
       "      <th>3</th>\n",
       "      <td>OAS1_0010_MR1</td>\n",
       "      <td>1</td>\n",
       "      <td>R</td>\n",
       "      <td>74</td>\n",
       "      <td>5</td>\n",
       "      <td>2</td>\n",
       "      <td>30</td>\n",
       "      <td>0</td>\n",
       "      <td>1636</td>\n",
       "      <td>0.689</td>\n",
       "      <td>1,073</td>\n",
       "      <td>NaN</td>\n",
       "    </tr>\n",
       "    <tr>\n",
       "      <th>4</th>\n",
       "      <td>OAS1_0011_MR1</td>\n",
       "      <td>0</td>\n",
       "      <td>R</td>\n",
       "      <td>52</td>\n",
       "      <td>3</td>\n",
       "      <td>2</td>\n",
       "      <td>30</td>\n",
       "      <td>0</td>\n",
       "      <td>1321</td>\n",
       "      <td>0.827</td>\n",
       "      <td>1,329</td>\n",
       "      <td>NaN</td>\n",
       "    </tr>\n",
       "  </tbody>\n",
       "</table>\n",
       "</div>"
      ],
      "text/plain": [
       "              ID  M/F Hand  Age  Educ  SES  MMSE  CDR  eTIV   nWBV    ASF  \\\n",
       "0  OAS1_0001_MR1    0    R   74     2    3    29    0  1344  0.743  1,306   \n",
       "1  OAS1_0002_MR1    0    R   55     4    1    29    0  1147  0.810  1,531   \n",
       "2  OAS1_0003_MR1    0    R   73     4    3    27    1  1454  0.708  1,207   \n",
       "3  OAS1_0010_MR1    1    R   74     5    2    30    0  1636  0.689  1,073   \n",
       "4  OAS1_0011_MR1    0    R   52     3    2    30    0  1321  0.827  1,329   \n",
       "\n",
       "   Delay  \n",
       "0    NaN  \n",
       "1    NaN  \n",
       "2    NaN  \n",
       "3    NaN  \n",
       "4    NaN  "
      ]
     },
     "execution_count": 1,
     "metadata": {},
     "output_type": "execute_result"
    }
   ],
   "source": [
    "import pandas as pd\n",
    "from matplotlib import pyplot as plt\n",
    "import seaborn as sns\n",
    "\n",
    "directory = r'C:\\Users\\italo\\OneDrive\\Desktop'\n",
    "file = 'yoo.csv'\n",
    "df_3 = pd.read_csv(f'{directory}/{file}')\n",
    "df_3.head()"
   ]
  },
  {
   "cell_type": "code",
   "execution_count": 2,
   "metadata": {},
   "outputs": [],
   "source": [
    "df_3 = df_3.drop(columns = ['ID', 'Hand', 'Delay'])"
   ]
  },
  {
   "cell_type": "code",
   "execution_count": 3,
   "metadata": {},
   "outputs": [],
   "source": [
    "df_3['ASF'] = df_3['ASF'].apply(lambda x: float(x.split()[0].replace(',', '.'))) #now we see ASF like float64 type"
   ]
  },
  {
   "cell_type": "code",
   "execution_count": 4,
   "metadata": {},
   "outputs": [
    {
     "data": {
      "text/plain": [
       "M/F       int64\n",
       "Age       int64\n",
       "Educ      int64\n",
       "SES       int64\n",
       "MMSE      int64\n",
       "CDR       int64\n",
       "eTIV      int64\n",
       "nWBV    float64\n",
       "ASF     float64\n",
       "dtype: object"
      ]
     },
     "execution_count": 4,
     "metadata": {},
     "output_type": "execute_result"
    }
   ],
   "source": [
    "df_3.dtypes"
   ]
  },
  {
   "cell_type": "code",
   "execution_count": 5,
   "metadata": {},
   "outputs": [],
   "source": [
    "label_2 = df_3.loc[df_3['CDR'] == 2] #.assign(Location=1)\n",
    "label_3 = df_3.loc[df_3['CDR'] == 3] #.assign(Location=2)"
   ]
  },
  {
   "cell_type": "code",
   "execution_count": 6,
   "metadata": {},
   "outputs": [
    {
     "data": {
      "text/html": [
       "<div>\n",
       "<style scoped>\n",
       "    .dataframe tbody tr th:only-of-type {\n",
       "        vertical-align: middle;\n",
       "    }\n",
       "\n",
       "    .dataframe tbody tr th {\n",
       "        vertical-align: top;\n",
       "    }\n",
       "\n",
       "    .dataframe thead th {\n",
       "        text-align: right;\n",
       "    }\n",
       "</style>\n",
       "<table border=\"1\" class=\"dataframe\">\n",
       "  <thead>\n",
       "    <tr style=\"text-align: right;\">\n",
       "      <th></th>\n",
       "      <th>M/F</th>\n",
       "      <th>Age</th>\n",
       "      <th>Educ</th>\n",
       "      <th>SES</th>\n",
       "      <th>MMSE</th>\n",
       "      <th>CDR</th>\n",
       "      <th>eTIV</th>\n",
       "      <th>nWBV</th>\n",
       "      <th>ASF</th>\n",
       "    </tr>\n",
       "  </thead>\n",
       "  <tbody>\n",
       "    <tr>\n",
       "      <th>count</th>\n",
       "      <td>24.000000</td>\n",
       "      <td>24.000000</td>\n",
       "      <td>24.000000</td>\n",
       "      <td>24.000000</td>\n",
       "      <td>24.000000</td>\n",
       "      <td>24.0</td>\n",
       "      <td>24.000000</td>\n",
       "      <td>24.000000</td>\n",
       "      <td>24.000000</td>\n",
       "    </tr>\n",
       "    <tr>\n",
       "      <th>mean</th>\n",
       "      <td>0.291667</td>\n",
       "      <td>78.458333</td>\n",
       "      <td>2.583333</td>\n",
       "      <td>2.875000</td>\n",
       "      <td>21.958333</td>\n",
       "      <td>2.0</td>\n",
       "      <td>1477.791667</td>\n",
       "      <td>0.705500</td>\n",
       "      <td>1.194625</td>\n",
       "    </tr>\n",
       "    <tr>\n",
       "      <th>std</th>\n",
       "      <td>0.464306</td>\n",
       "      <td>6.560615</td>\n",
       "      <td>1.380506</td>\n",
       "      <td>1.295897</td>\n",
       "      <td>3.263489</td>\n",
       "      <td>0.0</td>\n",
       "      <td>118.267927</td>\n",
       "      <td>0.030625</td>\n",
       "      <td>0.093525</td>\n",
       "    </tr>\n",
       "    <tr>\n",
       "      <th>min</th>\n",
       "      <td>0.000000</td>\n",
       "      <td>69.000000</td>\n",
       "      <td>1.000000</td>\n",
       "      <td>1.000000</td>\n",
       "      <td>15.000000</td>\n",
       "      <td>2.0</td>\n",
       "      <td>1274.000000</td>\n",
       "      <td>0.655000</td>\n",
       "      <td>1.013000</td>\n",
       "    </tr>\n",
       "    <tr>\n",
       "      <th>25%</th>\n",
       "      <td>0.000000</td>\n",
       "      <td>72.750000</td>\n",
       "      <td>1.750000</td>\n",
       "      <td>2.000000</td>\n",
       "      <td>20.000000</td>\n",
       "      <td>2.0</td>\n",
       "      <td>1397.500000</td>\n",
       "      <td>0.683750</td>\n",
       "      <td>1.161500</td>\n",
       "    </tr>\n",
       "    <tr>\n",
       "      <th>50%</th>\n",
       "      <td>0.000000</td>\n",
       "      <td>78.000000</td>\n",
       "      <td>2.000000</td>\n",
       "      <td>3.000000</td>\n",
       "      <td>22.000000</td>\n",
       "      <td>2.0</td>\n",
       "      <td>1477.000000</td>\n",
       "      <td>0.698000</td>\n",
       "      <td>1.188500</td>\n",
       "    </tr>\n",
       "    <tr>\n",
       "      <th>75%</th>\n",
       "      <td>1.000000</td>\n",
       "      <td>83.000000</td>\n",
       "      <td>4.000000</td>\n",
       "      <td>4.000000</td>\n",
       "      <td>23.000000</td>\n",
       "      <td>2.0</td>\n",
       "      <td>1511.500000</td>\n",
       "      <td>0.731500</td>\n",
       "      <td>1.256000</td>\n",
       "    </tr>\n",
       "    <tr>\n",
       "      <th>max</th>\n",
       "      <td>1.000000</td>\n",
       "      <td>96.000000</td>\n",
       "      <td>5.000000</td>\n",
       "      <td>5.000000</td>\n",
       "      <td>28.000000</td>\n",
       "      <td>2.0</td>\n",
       "      <td>1732.000000</td>\n",
       "      <td>0.762000</td>\n",
       "      <td>1.377000</td>\n",
       "    </tr>\n",
       "  </tbody>\n",
       "</table>\n",
       "</div>"
      ],
      "text/plain": [
       "             M/F        Age       Educ        SES       MMSE   CDR  \\\n",
       "count  24.000000  24.000000  24.000000  24.000000  24.000000  24.0   \n",
       "mean    0.291667  78.458333   2.583333   2.875000  21.958333   2.0   \n",
       "std     0.464306   6.560615   1.380506   1.295897   3.263489   0.0   \n",
       "min     0.000000  69.000000   1.000000   1.000000  15.000000   2.0   \n",
       "25%     0.000000  72.750000   1.750000   2.000000  20.000000   2.0   \n",
       "50%     0.000000  78.000000   2.000000   3.000000  22.000000   2.0   \n",
       "75%     1.000000  83.000000   4.000000   4.000000  23.000000   2.0   \n",
       "max     1.000000  96.000000   5.000000   5.000000  28.000000   2.0   \n",
       "\n",
       "              eTIV       nWBV        ASF  \n",
       "count    24.000000  24.000000  24.000000  \n",
       "mean   1477.791667   0.705500   1.194625  \n",
       "std     118.267927   0.030625   0.093525  \n",
       "min    1274.000000   0.655000   1.013000  \n",
       "25%    1397.500000   0.683750   1.161500  \n",
       "50%    1477.000000   0.698000   1.188500  \n",
       "75%    1511.500000   0.731500   1.256000  \n",
       "max    1732.000000   0.762000   1.377000  "
      ]
     },
     "execution_count": 6,
     "metadata": {},
     "output_type": "execute_result"
    }
   ],
   "source": [
    "summary_2 = label_2.describe()\n",
    "#summary_2 = summary_2.rename(columns={'Age': 'Age_2'})\n",
    "summary_2"
   ]
  },
  {
   "cell_type": "code",
   "execution_count": 7,
   "metadata": {},
   "outputs": [
    {
     "data": {
      "text/html": [
       "<div>\n",
       "<style scoped>\n",
       "    .dataframe tbody tr th:only-of-type {\n",
       "        vertical-align: middle;\n",
       "    }\n",
       "\n",
       "    .dataframe tbody tr th {\n",
       "        vertical-align: top;\n",
       "    }\n",
       "\n",
       "    .dataframe thead th {\n",
       "        text-align: right;\n",
       "    }\n",
       "</style>\n",
       "<table border=\"1\" class=\"dataframe\">\n",
       "  <thead>\n",
       "    <tr style=\"text-align: right;\">\n",
       "      <th></th>\n",
       "      <th>M/F</th>\n",
       "      <th>Age</th>\n",
       "      <th>Educ</th>\n",
       "      <th>SES</th>\n",
       "      <th>MMSE</th>\n",
       "      <th>CDR</th>\n",
       "      <th>eTIV</th>\n",
       "      <th>nWBV</th>\n",
       "      <th>ASF</th>\n",
       "    </tr>\n",
       "  </thead>\n",
       "  <tbody>\n",
       "    <tr>\n",
       "      <th>count</th>\n",
       "      <td>2.000000</td>\n",
       "      <td>2.000000</td>\n",
       "      <td>2.000000</td>\n",
       "      <td>2.000000</td>\n",
       "      <td>2.0</td>\n",
       "      <td>2.0</td>\n",
       "      <td>2.000000</td>\n",
       "      <td>2.00000</td>\n",
       "      <td>2.000000</td>\n",
       "    </tr>\n",
       "    <tr>\n",
       "      <th>mean</th>\n",
       "      <td>0.500000</td>\n",
       "      <td>82.000000</td>\n",
       "      <td>2.000000</td>\n",
       "      <td>3.500000</td>\n",
       "      <td>15.0</td>\n",
       "      <td>3.0</td>\n",
       "      <td>1456.500000</td>\n",
       "      <td>0.68400</td>\n",
       "      <td>1.207000</td>\n",
       "    </tr>\n",
       "    <tr>\n",
       "      <th>std</th>\n",
       "      <td>0.707107</td>\n",
       "      <td>5.656854</td>\n",
       "      <td>1.414214</td>\n",
       "      <td>0.707107</td>\n",
       "      <td>0.0</td>\n",
       "      <td>0.0</td>\n",
       "      <td>78.488853</td>\n",
       "      <td>0.02687</td>\n",
       "      <td>0.065054</td>\n",
       "    </tr>\n",
       "    <tr>\n",
       "      <th>min</th>\n",
       "      <td>0.000000</td>\n",
       "      <td>78.000000</td>\n",
       "      <td>1.000000</td>\n",
       "      <td>3.000000</td>\n",
       "      <td>15.0</td>\n",
       "      <td>3.0</td>\n",
       "      <td>1401.000000</td>\n",
       "      <td>0.66500</td>\n",
       "      <td>1.161000</td>\n",
       "    </tr>\n",
       "    <tr>\n",
       "      <th>25%</th>\n",
       "      <td>0.250000</td>\n",
       "      <td>80.000000</td>\n",
       "      <td>1.500000</td>\n",
       "      <td>3.250000</td>\n",
       "      <td>15.0</td>\n",
       "      <td>3.0</td>\n",
       "      <td>1428.750000</td>\n",
       "      <td>0.67450</td>\n",
       "      <td>1.184000</td>\n",
       "    </tr>\n",
       "    <tr>\n",
       "      <th>50%</th>\n",
       "      <td>0.500000</td>\n",
       "      <td>82.000000</td>\n",
       "      <td>2.000000</td>\n",
       "      <td>3.500000</td>\n",
       "      <td>15.0</td>\n",
       "      <td>3.0</td>\n",
       "      <td>1456.500000</td>\n",
       "      <td>0.68400</td>\n",
       "      <td>1.207000</td>\n",
       "    </tr>\n",
       "    <tr>\n",
       "      <th>75%</th>\n",
       "      <td>0.750000</td>\n",
       "      <td>84.000000</td>\n",
       "      <td>2.500000</td>\n",
       "      <td>3.750000</td>\n",
       "      <td>15.0</td>\n",
       "      <td>3.0</td>\n",
       "      <td>1484.250000</td>\n",
       "      <td>0.69350</td>\n",
       "      <td>1.230000</td>\n",
       "    </tr>\n",
       "    <tr>\n",
       "      <th>max</th>\n",
       "      <td>1.000000</td>\n",
       "      <td>86.000000</td>\n",
       "      <td>3.000000</td>\n",
       "      <td>4.000000</td>\n",
       "      <td>15.0</td>\n",
       "      <td>3.0</td>\n",
       "      <td>1512.000000</td>\n",
       "      <td>0.70300</td>\n",
       "      <td>1.253000</td>\n",
       "    </tr>\n",
       "  </tbody>\n",
       "</table>\n",
       "</div>"
      ],
      "text/plain": [
       "            M/F        Age      Educ       SES  MMSE  CDR         eTIV  \\\n",
       "count  2.000000   2.000000  2.000000  2.000000   2.0  2.0     2.000000   \n",
       "mean   0.500000  82.000000  2.000000  3.500000  15.0  3.0  1456.500000   \n",
       "std    0.707107   5.656854  1.414214  0.707107   0.0  0.0    78.488853   \n",
       "min    0.000000  78.000000  1.000000  3.000000  15.0  3.0  1401.000000   \n",
       "25%    0.250000  80.000000  1.500000  3.250000  15.0  3.0  1428.750000   \n",
       "50%    0.500000  82.000000  2.000000  3.500000  15.0  3.0  1456.500000   \n",
       "75%    0.750000  84.000000  2.500000  3.750000  15.0  3.0  1484.250000   \n",
       "max    1.000000  86.000000  3.000000  4.000000  15.0  3.0  1512.000000   \n",
       "\n",
       "          nWBV       ASF  \n",
       "count  2.00000  2.000000  \n",
       "mean   0.68400  1.207000  \n",
       "std    0.02687  0.065054  \n",
       "min    0.66500  1.161000  \n",
       "25%    0.67450  1.184000  \n",
       "50%    0.68400  1.207000  \n",
       "75%    0.69350  1.230000  \n",
       "max    0.70300  1.253000  "
      ]
     },
     "execution_count": 7,
     "metadata": {},
     "output_type": "execute_result"
    }
   ],
   "source": [
    "summary_3 = label_3.describe()\n",
    "#summary_3 = summary_3.rename(columns={'Age': 'Age_3'})\n",
    "summary_3"
   ]
  },
  {
   "cell_type": "code",
   "execution_count": 8,
   "metadata": {},
   "outputs": [],
   "source": [
    "Age_2 = label_2.drop(columns = ['Educ', 'SES', 'MMSE', 'CDR', 'eTIV', 'nWBV', 'ASF']).assign(Location=2)\n",
    "Age_3 = label_3.drop(columns = ['Educ', 'SES', 'MMSE', 'CDR', 'eTIV', 'nWBV', 'ASF']).assign(Location=3)"
   ]
  },
  {
   "cell_type": "code",
   "execution_count": 10,
   "metadata": {},
   "outputs": [
    {
     "data": {
      "image/png": "[encoded data removed]",
      "text/plain": [
       "<Figure size 432x288 with 1 Axes>"
      ]
     },
     "metadata": {
      "needs_background": "light"
     },
     "output_type": "display_data"
    }
   ],
   "source": [
    "Educ_2 = label_2.drop(columns = ['Age', 'SES', 'MMSE', 'CDR', 'eTIV', 'nWBV', 'ASF']).assign(Location=2)\n",
    "Educ_3 = label_3.drop(columns = ['Age', 'SES', 'MMSE', 'CDR', 'eTIV', 'nWBV', 'ASF']).assign(Location=3)\n",
    "cdf = pd.concat([Educ_2, Educ_3])    \n",
    "mdf = pd.melt(cdf, id_vars=['Location'], var_name=['CDR'])\n",
    "#print(mdf.head())\n",
    "\n",
    "ax = sns.boxplot(x=\"Location\", y=\"value\", data=mdf)    \n",
    "plt.title('Educ per group')\n",
    "plt.savefig('2')\n",
    "plt.show()"
   ]
  },
  {
   "cell_type": "code",
   "execution_count": 11,
   "metadata": {},
   "outputs": [
    {
     "data": {
      "image/png": "[encoded data removed]",
      "text/plain": [
       "<Figure size 432x288 with 1 Axes>"
      ]
     },
     "metadata": {
      "needs_background": "light"
     },
     "output_type": "display_data"
    }
   ],
   "source": [
    "SES_2 = label_2.drop(columns = ['Age', 'Educ', 'MMSE', 'CDR', 'eTIV', 'nWBV', 'ASF']).assign(Location=2)\n",
    "SES_3 = label_3.drop(columns = ['Age', 'Educ', 'MMSE', 'CDR', 'eTIV', 'nWBV', 'ASF']).assign(Location=3)\n",
    "cdf = pd.concat([SES_2, SES_3])    \n",
    "mdf = pd.melt(cdf, id_vars=['Location'], var_name=['CDR'])\n",
    "#print(mdf.head())\n",
    "\n",
    "ax = sns.boxplot(x=\"Location\", y=\"value\", data=mdf)    \n",
    "plt.title('SES per group')\n",
    "plt.savefig('3')\n",
    "plt.show()"
   ]
  },
  {
   "cell_type": "code",
   "execution_count": 12,
   "metadata": {},
   "outputs": [
    {
     "data": {
      "image/png": "[encoded data removed]",
      "text/plain": [
       "<Figure size 432x288 with 1 Axes>"
      ]
     },
     "metadata": {
      "needs_background": "light"
     },
     "output_type": "display_data"
    }
   ],
   "source": [
    "MMSE_2 = label_2.drop(columns = ['Age', 'Educ', 'SES', 'CDR', 'eTIV', 'nWBV', 'ASF']).assign(Location=2)\n",
    "MMSE_3 = label_3.drop(columns = ['Age', 'Educ', 'SES', 'CDR', 'eTIV', 'nWBV', 'ASF']).assign(Location=3)\n",
    "cdf = pd.concat([MMSE_2, MMSE_3])    \n",
    "mdf = pd.melt(cdf, id_vars=['Location'], var_name=['CDR'])\n",
    "#print(mdf.head())\n",
    "\n",
    "ax = sns.boxplot(x=\"Location\", y=\"value\", data=mdf)    \n",
    "plt.title('MMSE per group')\n",
    "plt.savefig('4')\n",
    "plt.show()"
   ]
  },
  {
   "cell_type": "code",
   "execution_count": 13,
   "metadata": {},
   "outputs": [
    {
     "data": {
      "image/png": "[encoded data removed]",
      "text/plain": [
       "<Figure size 432x288 with 1 Axes>"
      ]
     },
     "metadata": {
      "needs_background": "light"
     },
     "output_type": "display_data"
    }
   ],
   "source": [
    "eTIV_2 = label_2.drop(columns = ['Age', 'Educ', 'SES', 'CDR', 'MMSE', 'nWBV', 'ASF']).assign(Location=2)\n",
    "eTIV_3 = label_3.drop(columns = ['Age', 'Educ', 'SES', 'CDR', 'MMSE', 'nWBV', 'ASF']).assign(Location=3)\n",
    "cdf = pd.concat([eTIV_2, eTIV_3])    \n",
    "mdf = pd.melt(cdf, id_vars=['Location'], var_name=['CDR'])\n",
    "#print(mdf.head())\n",
    "\n",
    "ax = sns.boxplot(x=\"Location\", y=\"value\", data=mdf)    \n",
    "plt.title('eTIV per group')\n",
    "plt.savefig('5')\n",
    "plt.show()"
   ]
  },
  {
   "cell_type": "code",
   "execution_count": 14,
   "metadata": {},
   "outputs": [
    {
     "data": {
      "image/png": "[encoded data removed]",
      "text/plain": [
       "<Figure size 432x288 with 1 Axes>"
      ]
     },
     "metadata": {
      "needs_background": "light"
     },
     "output_type": "display_data"
    }
   ],
   "source": [
    "nWBV_2 = label_2.drop(columns = ['Age', 'Educ', 'SES', 'CDR', 'MMSE', 'eTIV', 'ASF']).assign(Location=2)\n",
    "nWBV_3 = label_3.drop(columns = ['Age', 'Educ', 'SES', 'CDR', 'MMSE', 'eTIV', 'ASF']).assign(Location=3)\n",
    "cdf = pd.concat([nWBV_2, nWBV_3])    \n",
    "mdf = pd.melt(cdf, id_vars=['Location'], var_name=['CDR'])\n",
    "#print(mdf.head())\n",
    "\n",
    "ax = sns.boxplot(x=\"Location\", y=\"value\", data=mdf)    \n",
    "plt.title('nWBV per group')\n",
    "plt.savefig('6')\n",
    "plt.show()"
   ]
  },
  {
   "cell_type": "code",
   "execution_count": 15,
   "metadata": {},
   "outputs": [
    {
     "data": {
      "image/png": "[encoded data removed]",
      "text/plain": [
       "<Figure size 432x288 with 1 Axes>"
      ]
     },
     "metadata": {
      "needs_background": "light"
     },
     "output_type": "display_data"
    }
   ],
   "source": [
    "ASF_2 = label_2.drop(columns = ['Age', 'Educ', 'SES', 'CDR', 'MMSE', 'eTIV', 'nWBV']).assign(Location=2)\n",
    "ASF_3 = label_3.drop(columns = ['Age', 'Educ', 'SES', 'CDR', 'MMSE', 'eTIV', 'nWBV']).assign(Location=3)\n",
    "cdf = pd.concat([ASF_2, ASF_3])    \n",
    "mdf = pd.melt(cdf, id_vars=['Location'], var_name=['CDR'])\n",
    "#print(mdf.head())\n",
    "\n",
    "ax = sns.boxplot(x=\"Location\", y=\"value\", data=mdf)    \n",
    "plt.title('ASF per group')\n",
    "plt.savefig('7')\n",
    "plt.show()"
   ]
  },
  {
   "cell_type": "code",
   "execution_count": 1,
   "metadata": {},
   "outputs": [],
   "source": [
    "#smote\n",
    "data = [0.79, 0.65, 0.75, 0.71, 0.77, 0.73, 0.72, 0.78, 0.71, 0.74]\n",
    "labels = ['Linear','Polynomial','Gaussian','Sigmoid', 'CV', 'merged_Linear', 'merged_Polynomial', 'merged_Gaussian',\n",
    "          'merged_Sigmoid', 'merged_CV']\n",
    "\n",
    "#len(data) == len(labels)"
   ]
  },
  {
   "cell_type": "code",
   "execution_count": 2,
   "metadata": {},
   "outputs": [
    {
     "data": {
      "image/png": "[encoded data removed]",
      "text/plain": [
       "<Figure size 432x288 with 1 Axes>"
      ]
     },
     "metadata": {
      "needs_background": "light"
     },
     "output_type": "display_data"
    }
   ],
   "source": [
    "from matplotlib import pyplot as plt\n",
    "\n",
    "plt.plot([i for i, e in enumerate(data)], data, 'ro'); plt.xticks([i for i, e in enumerate(labels)], [l[0:16] for l in labels])\n",
    "plt.title(\"Model Vs Accuracy\",fontsize = 14)\n",
    "plt.xlabel('Models with SMOTE',fontsize = 13)\n",
    "plt.xticks(rotation = 50)\n",
    "plt.ylabel('Accuracy',fontsize = 13)\n",
    "plt.grid()\n",
    "plt.show()"
   ]
  },
  {
   "cell_type": "code",
   "execution_count": 3,
   "metadata": {},
   "outputs": [],
   "source": [
    "#senza smote\n",
    "\n",
    "data = [0.72, 0.66, 0.73, 0.86, 0.84, 0.68, 0.43, 0.45, 0.48, 0.48]\n",
    "labels = ['Linear','Polynomial','Gaussian','Sigmoid', 'CV', 'merged_Linear','merged_Polynomial','merged_Gaussian',\n",
    "          'merged_Sigmoid','merged_CV']"
   ]
  },
  {
   "cell_type": "code",
   "execution_count": 4,
   "metadata": {},
   "outputs": [
    {
     "data": {
      "image/png": "[encoded data removed]",
      "text/plain": [
       "<Figure size 432x288 with 1 Axes>"
      ]
     },
     "metadata": {
      "needs_background": "light"
     },
     "output_type": "display_data"
    }
   ],
   "source": [
    "plt.plot([i for i, e in enumerate(data)], data, 'ro'); plt.xticks([i for i, e in enumerate(labels)], [l[0:16] for l in labels])\n",
    "plt.title(\"Model Vs Accuracy\",fontsize = 14)\n",
    "plt.xlabel('Models without SMOTE',fontsize = 13)\n",
    "plt.xticks(rotation = 50)\n",
    "plt.ylabel('Accuracy',fontsize = 13)\n",
    "plt.grid()\n",
    "plt.show()"
   ]
  },
  {
   "cell_type": "code",
   "execution_count": 4,
   "metadata": {},
   "outputs": [],
   "source": [
    "#svm vg logistic\n",
    "\n",
    "data = [0.81, 0.8, 0.719, 0.7, 0.81, 0.81, 0.81, 0.87, 0.79, 0.78]\n",
    "labels = ['SMOTE Multilogreg', 'SMOTE-RFE Multilogreg', 'Merged SMOTE Multilogreg', 'Merged SMOTE RFE Multilogreg', \n",
    "          'NoSMOTE Multilogreg', 'NoSMOTE RFE Multilogreg', 'Merged NoSMOTE Multilogreg', 'Merged NoSMOTE RFE Multilogreg',\n",
    "          'SMOTE Linear SVM', 'SMOTE CV SVM']"
   ]
  },
  {
   "cell_type": "code",
   "execution_count": 5,
   "metadata": {},
   "outputs": [
    {
     "data": {
      "image/png": "[encoded data removed]",
      "text/plain": [
       "<Figure size 432x288 with 1 Axes>"
      ]
     },
     "metadata": {
      "needs_background": "light"
     },
     "output_type": "display_data"
    }
   ],
   "source": [
    "plt.plot([i for i, e in enumerate(data)], data, 'ro'); plt.xticks([i for i, e in enumerate(labels)], [l[0:16] for l in labels])\n",
    "plt.title(\"Model Vs Accuracy\",fontsize = 14)\n",
    "plt.xlabel('Logregs and best SVM models',fontsize = 13)\n",
    "plt.xticks(rotation = 50)\n",
    "plt.ylabel('Accuracy',fontsize = 13)\n",
    "plt.grid()\n",
    "plt.show()"
   ]
  },
  {
   "cell_type": "code",
   "execution_count": null,
   "metadata": {},
   "outputs": [],
   "source": []
  }
 ],
 "metadata": {
  "kernelspec": {
   "display_name": "Python 3",
   "language": "python",
   "name": "python3"
  },
  "language_info": {
   "codemirror_mode": {
    "name": "ipython",
    "version": 3
   },
   "file_extension": ".py",
   "mimetype": "text/x-python",
   "name": "python",
   "nbconvert_exporter": "python",
   "pygments_lexer": "ipython3",
   "version": "3.7.9"
  }
 },
 "nbformat": 4,
 "nbformat_minor": 4
}
