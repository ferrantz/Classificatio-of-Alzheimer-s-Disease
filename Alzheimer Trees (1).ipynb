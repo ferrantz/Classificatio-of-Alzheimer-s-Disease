{
 "cells": [
  {
   "cell_type": "code",
   "execution_count": 2,
   "metadata": {},
   "outputs": [],
   "source": [
    "import pandas as pd\n",
    "import numpy as np\n",
    "import matplotlib.pyplot as plt\n",
    "from sklearn.model_selection import cross_val_score, RandomizedSearchCV, GridSearchCV, cross_validate, RepeatedKFold\n",
    "from sklearn.metrics import mean_squared_error, r2_score, mean_absolute_error, median_absolute_error\n",
    "from matplotlib.pyplot import figure"
   ]
  },
  {
   "cell_type": "code",
   "execution_count": 3,
   "metadata": {},
   "outputs": [],
   "source": [
    "directory = r'C:\\Users\\italo\\OneDrive\\Desktop'\n",
    "file = 'yoo.csv'\n",
    "df_2 = pd.read_csv(f'{directory}/{file}')"
   ]
  },
  {
   "cell_type": "code",
   "execution_count": 4,
   "metadata": {},
   "outputs": [],
   "source": [
    "df_2 = df_2.drop(columns = ['Hand', 'Delay', 'ID']) #we dropped these two variables becauese are useless\n",
    "#df_2.head()\n",
    "df_2['ASF'] = df_2['ASF'].apply(lambda x: float(x.split()[0].replace(',', '.'))) #now we see ASF like float64 type\n",
    "#now we see ASF like float64 type"
   ]
  },
  {
   "cell_type": "code",
   "execution_count": 5,
   "metadata": {},
   "outputs": [
    {
     "data": {
      "text/html": [
       "<div>\n",
       "<style scoped>\n",
       "    .dataframe tbody tr th:only-of-type {\n",
       "        vertical-align: middle;\n",
       "    }\n",
       "\n",
       "    .dataframe tbody tr th {\n",
       "        vertical-align: top;\n",
       "    }\n",
       "\n",
       "    .dataframe thead th {\n",
       "        text-align: right;\n",
       "    }\n",
       "</style>\n",
       "<table border=\"1\" class=\"dataframe\">\n",
       "  <thead>\n",
       "    <tr style=\"text-align: right;\">\n",
       "      <th></th>\n",
       "      <th>M/F</th>\n",
       "      <th>Age</th>\n",
       "      <th>Educ</th>\n",
       "      <th>SES</th>\n",
       "      <th>MMSE</th>\n",
       "      <th>CDR</th>\n",
       "      <th>eTIV</th>\n",
       "      <th>nWBV</th>\n",
       "      <th>ASF</th>\n",
       "    </tr>\n",
       "  </thead>\n",
       "  <tbody>\n",
       "    <tr>\n",
       "      <th>0</th>\n",
       "      <td>0</td>\n",
       "      <td>74</td>\n",
       "      <td>2</td>\n",
       "      <td>3</td>\n",
       "      <td>29</td>\n",
       "      <td>0</td>\n",
       "      <td>1344</td>\n",
       "      <td>0.743</td>\n",
       "      <td>1.306</td>\n",
       "    </tr>\n",
       "    <tr>\n",
       "      <th>1</th>\n",
       "      <td>0</td>\n",
       "      <td>55</td>\n",
       "      <td>4</td>\n",
       "      <td>1</td>\n",
       "      <td>29</td>\n",
       "      <td>0</td>\n",
       "      <td>1147</td>\n",
       "      <td>0.810</td>\n",
       "      <td>1.531</td>\n",
       "    </tr>\n",
       "    <tr>\n",
       "      <th>2</th>\n",
       "      <td>0</td>\n",
       "      <td>73</td>\n",
       "      <td>4</td>\n",
       "      <td>3</td>\n",
       "      <td>27</td>\n",
       "      <td>1</td>\n",
       "      <td>1454</td>\n",
       "      <td>0.708</td>\n",
       "      <td>1.207</td>\n",
       "    </tr>\n",
       "    <tr>\n",
       "      <th>3</th>\n",
       "      <td>1</td>\n",
       "      <td>74</td>\n",
       "      <td>5</td>\n",
       "      <td>2</td>\n",
       "      <td>30</td>\n",
       "      <td>0</td>\n",
       "      <td>1636</td>\n",
       "      <td>0.689</td>\n",
       "      <td>1.073</td>\n",
       "    </tr>\n",
       "    <tr>\n",
       "      <th>4</th>\n",
       "      <td>0</td>\n",
       "      <td>52</td>\n",
       "      <td>3</td>\n",
       "      <td>2</td>\n",
       "      <td>30</td>\n",
       "      <td>0</td>\n",
       "      <td>1321</td>\n",
       "      <td>0.827</td>\n",
       "      <td>1.329</td>\n",
       "    </tr>\n",
       "  </tbody>\n",
       "</table>\n",
       "</div>"
      ],
      "text/plain": [
       "   M/F  Age  Educ  SES  MMSE  CDR  eTIV   nWBV    ASF\n",
       "0    0   74     2    3    29    0  1344  0.743  1.306\n",
       "1    0   55     4    1    29    0  1147  0.810  1.531\n",
       "2    0   73     4    3    27    1  1454  0.708  1.207\n",
       "3    1   74     5    2    30    0  1636  0.689  1.073\n",
       "4    0   52     3    2    30    0  1321  0.827  1.329"
      ]
     },
     "execution_count": 5,
     "metadata": {},
     "output_type": "execute_result"
    }
   ],
   "source": [
    "df_2.head()"
   ]
  },
  {
   "cell_type": "markdown",
   "metadata": {},
   "source": [
    "## SMOTE"
   ]
  },
  {
   "cell_type": "code",
   "execution_count": 6,
   "metadata": {},
   "outputs": [
    {
     "name": "stdout",
     "output_type": "stream",
     "text": [
      "length of oversampled data is  364\n",
      "Number of Nondementia in oversampled data 91\n",
      "Number of Very Mild Dementia 91\n",
      "Number of Moderate Dementia 91\n",
      "Number of Mild Dementia 91\n",
      "Proportion of Nondementia in oversampled data is  0.25\n",
      "Proportion of Very Mild Dementia in oversampled data is  0.25\n",
      "Proportion of Moderate Dementia in oversampled data is  0.25\n",
      "Proportion of Mild Dementia in oversampled data is  0.25\n"
     ]
    }
   ],
   "source": [
    "#https://machinelearningmastery.com/smote-oversampling-for-imbalanced-classification/\n",
    "\n",
    "from imblearn.over_sampling import SMOTE\n",
    "from sklearn import preprocessing\n",
    "from sklearn.linear_model import LogisticRegression\n",
    "from sklearn.model_selection import train_test_split\n",
    "\n",
    "X = df_2.loc[:, df_2.columns != 'CDR']\n",
    "y = df_2.loc[:, df_2.columns == 'CDR']\n",
    "\n",
    "os = SMOTE(random_state=0, k_neighbors=1)\n",
    "X_train, X_test, y_train, y_test = train_test_split(X, y, test_size=0.3, random_state=0)\n",
    "columns = X_train.columns\n",
    "os_data_X,os_data_y=os.fit_sample(X_train, y_train)\n",
    "\n",
    "#os_data_X = df_2[['M/F', 'Age', 'Educ', 'SES', 'MMSE', 'eTIV', 'nWBV', 'ASF']]\n",
    "#os_data_y= df_2[['CDR']]\n",
    "\n",
    "os_data_X = pd.DataFrame(data=os_data_X,columns= ['M/F', 'Age', 'Educ', 'SES', 'MMSE', 'eTIV', 'nWBV', 'ASF'])\n",
    "os_data_y= pd.DataFrame(data=os_data_y,columns=['CDR']) #CDR because is our target variable\n",
    "\n",
    "# we can Check the numbers of our data\n",
    "print(\"length of oversampled data is \",len(os_data_X))\n",
    "print(\"Number of Nondementia in oversampled data\",len(os_data_y[os_data_y['CDR']==0]))\n",
    "print(\"Number of Very Mild Dementia\",len(os_data_y[os_data_y['CDR']==3]))\n",
    "print(\"Number of Moderate Dementia\",len(os_data_y[os_data_y['CDR']==2]))\n",
    "print(\"Number of Mild Dementia\",len(os_data_y[os_data_y['CDR']==1]))\n",
    "print(\"Proportion of Nondementia in oversampled data is \",len(os_data_y[os_data_y['CDR']==0])/len(os_data_X))\n",
    "print(\"Proportion of Very Mild Dementia in oversampled data is \",len(os_data_y[os_data_y['CDR']==3])/len(os_data_X))\n",
    "print(\"Proportion of Moderate Dementia in oversampled data is \",len(os_data_y[os_data_y['CDR']==2])/len(os_data_X))\n",
    "print(\"Proportion of Mild Dementia in oversampled data is \",len(os_data_y[os_data_y['CDR']==1])/len(os_data_X))"
   ]
  },
  {
   "cell_type": "code",
   "execution_count": 7,
   "metadata": {},
   "outputs": [],
   "source": [
    "df_2['CDR'] = df_2['CDR'].apply(lambda x: float(x))"
   ]
  },
  {
   "cell_type": "code",
   "execution_count": 8,
   "metadata": {},
   "outputs": [],
   "source": [
    "features = list(os_data_X.columns[:])\n",
    "target = list(os_data_y)\n",
    "#print(len(features)) #it prints number of features\n",
    "x = os_data_X.loc[:, features].values #it gives a nested list with values of every features\n",
    "y = os_data_y.loc[:, 'CDR'].values #it gives a list with values of CDR"
   ]
  },
  {
   "cell_type": "code",
   "execution_count": 14,
   "metadata": {},
   "outputs": [
    {
     "data": {
      "text/plain": [
       "(364,)"
      ]
     },
     "execution_count": 14,
     "metadata": {},
     "output_type": "execute_result"
    }
   ],
   "source": [
    "y.shape"
   ]
  },
  {
   "cell_type": "markdown",
   "metadata": {},
   "source": [
    "### Splitting the dataset into the Training set and Test set"
   ]
  },
  {
   "cell_type": "code",
   "execution_count": 8,
   "metadata": {},
   "outputs": [],
   "source": [
    "from sklearn.model_selection import train_test_split\n",
    "x_train, x_test, y_train, y_test = train_test_split(x, y, test_size=0.3, random_state = 30)\n",
    "cv = RepeatedKFold(n_splits=10, n_repeats=3, random_state=30)"
   ]
  },
  {
   "cell_type": "markdown",
   "metadata": {},
   "source": [
    "## Decision Tree Classifier"
   ]
  },
  {
   "cell_type": "code",
   "execution_count": 9,
   "metadata": {},
   "outputs": [
    {
     "name": "stdout",
     "output_type": "stream",
     "text": [
      "[0.4325641  0.42282051 0.42579487 0.36774359 0.28907692 0.45712821\n",
      " 0.43102564 0.46507692 0.37723077 0.32112821 0.45164103 0.44025641\n",
      " 0.448      0.46261538 0.33010256 0.46364103 0.47005128 0.45461538\n",
      " 0.47410256 0.3185641  0.47010256 0.478      0.45174359 0.46630769\n",
      " 0.33010256 0.47015385 0.47671795 0.46497436 0.48594872 0.33523077\n",
      " 0.46594872 0.47661538 0.48082051 0.49789744 0.34676923 0.54528205\n",
      " 0.45082051 0.41287179 0.37564103 0.30574359 0.58451282 0.57246154\n",
      " 0.51251282 0.40328205 0.31215385 0.61553846 0.61307692 0.52210256\n",
      " 0.42635897 0.31984615 0.63728205 0.64774359 0.53323077 0.44646154\n",
      " 0.32241026 0.68148718 0.64702564 0.59697436 0.4834359  0.32241026\n",
      " 0.70676923 0.70292308 0.65097436 0.50969231 0.33779487 0.71912821\n",
      " 0.69179487 0.67338462 0.49266667 0.34676923 0.5765641  0.50676923\n",
      " 0.44492308 0.39297436 0.30317949 0.60292308 0.56297436 0.47528205\n",
      " 0.39405128 0.29933333 0.6365641  0.63923077 0.524      0.44887179\n",
      " 0.32497436 0.71928205 0.67251282 0.54789744 0.4674359  0.31984615\n",
      " 0.73087179 0.70164103 0.63174359 0.47810256 0.32241026 0.74738462\n",
      " 0.71574359 0.64189744 0.50835897 0.34548718 0.78764103 0.77312821\n",
      " 0.63102564 0.50066667 0.34676923]\n",
      "DecisionTreeClassifier(max_depth=3, max_features=7, min_samples_leaf=0.1)\n"
     ]
    }
   ],
   "source": [
    "from sklearn import tree\n",
    "from sklearn.tree import DecisionTreeClassifier\n",
    "\n",
    "param_grid = {'max_features': list(range(1, x_train.shape[1])), \n",
    "              'max_depth': [1, 2, 3],\n",
    "              'min_samples_leaf': np.linspace(0.1, 0.5, 5, endpoint=True)}\n",
    "\n",
    "# Create model\n",
    "tree_class = DecisionTreeClassifier()\n",
    "\n",
    "# Instantiate the grid search model\n",
    "grid_search = GridSearchCV(tree_class, param_grid, n_jobs=-1, cv=cv)\n",
    "y_pred = grid_search.fit(x_train, y_train).predict(x_test)\n",
    "\n",
    "print(grid_search.cv_results_['mean_test_score'])\n",
    "print(grid_search.best_estimator_)"
   ]
  },
  {
   "cell_type": "code",
   "execution_count": 10,
   "metadata": {},
   "outputs": [
    {
     "name": "stdout",
     "output_type": "stream",
     "text": [
      "[0.        0.        0.        0.        0.9557828 0.        0.0442172\n",
      " 0.       ]\n"
     ]
    },
    {
     "data": {
      "image/png": "[encoded data removed]",
      "text/plain": [
       "<Figure size 936x648 with 1 Axes>"
      ]
     },
     "metadata": {
      "needs_background": "light"
     },
     "output_type": "display_data"
    }
   ],
   "source": [
    "from sklearn.tree import plot_tree\n",
    "import matplotlib.pyplot as plt\n",
    "tree_class = DecisionTreeClassifier(max_depth=3, max_features=8, min_samples_leaf=0.1)\n",
    "tree_class.fit(x_train, y_train)\n",
    "print(tree_class.feature_importances_)\n",
    "plt.figure(figsize=(13,9))\n",
    "a = plot_tree(tree_class, filled=True, rounded=True, fontsize=12)"
   ]
  },
  {
   "cell_type": "code",
   "execution_count": 11,
   "metadata": {},
   "outputs": [
    {
     "name": "stdout",
     "output_type": "stream",
     "text": [
      "MSE train: 0.193, test: 0.245\n",
      "R^2 train: 0.849, test: 0.780\n"
     ]
    }
   ],
   "source": [
    "y_train_pred = grid_search.predict(x_train)\n",
    "y_test_pred = grid_search.predict(x_test)\n",
    "print('MSE train: %.3f, test: %.3f' % (mean_squared_error(y_train, y_train_pred), mean_squared_error(y_test, y_test_pred)))\n",
    "print('R^2 train: %.3f, test: %.3f' % (r2_score(y_train, y_train_pred), r2_score(y_test, y_test_pred)))"
   ]
  },
  {
   "cell_type": "markdown",
   "metadata": {},
   "source": [
    "### Predicting and accuracy check"
   ]
  },
  {
   "cell_type": "code",
   "execution_count": 12,
   "metadata": {},
   "outputs": [
    {
     "name": "stdout",
     "output_type": "stream",
     "text": [
      "MSE: 0.25\n",
      "RMSE: 0.50\n",
      "MAE: 0.25\n",
      "MAPE: nan\n",
      "Accuracy: nan %.\n",
      "R^2: 0.78\n"
     ]
    },
    {
     "name": "stderr",
     "output_type": "stream",
     "text": [
      "C:\\Users\\italo\\miniconda3\\envs\\exams\\lib\\site-packages\\ipykernel_launcher.py:9: RuntimeWarning: divide by zero encountered in true_divide\n",
      "  if __name__ == '__main__':\n",
      "C:\\Users\\italo\\miniconda3\\envs\\exams\\lib\\site-packages\\ipykernel_launcher.py:9: RuntimeWarning: invalid value encountered in true_divide\n",
      "  if __name__ == '__main__':\n"
     ]
    }
   ],
   "source": [
    "mse = mean_squared_error(y_test, y_pred)\n",
    "print(\"MSE: %.2f\" % mse)\n",
    "print(\"RMSE: %.2f\" % np.sqrt(mse))\n",
    "\n",
    "mae = mean_absolute_error(y_test, y_pred)\n",
    "print(\"MAE: %.2f\" % mae)\n",
    "\n",
    "errors = abs(y_pred - y_test)   # Calculate the absolute errors\n",
    "mape = 100 * (errors / y_test)   # Calculate mean absolute percentage error (MAPE)\n",
    "print(\"MAPE: %.2f\" % np.mean(mape))\n",
    "accuracy = 100 - np.mean(mape)   # Calculate and display accuracy\n",
    "print('Accuracy:', round(accuracy, 2), '%.')\n",
    "\n",
    "r2 = r2_score(y_test, y_pred)\n",
    "print(\"R^2: %.2f\" % r2)"
   ]
  },
  {
   "cell_type": "markdown",
   "metadata": {},
   "source": [
    "### so we try to use starting dataset"
   ]
  },
  {
   "cell_type": "code",
   "execution_count": 13,
   "metadata": {},
   "outputs": [
    {
     "name": "stdout",
     "output_type": "stream",
     "text": [
      "[0.62254902 0.65947712 0.65174292 0.62254902 0.62265795 0.64281046\n",
      " 0.65152505 0.64389978 0.64803922 0.62265795 0.6456427  0.68137255\n",
      " 0.64793028 0.61002179 0.62265795 0.66328976 0.67124183 0.66732026\n",
      " 0.63954248 0.62265795 0.6828976  0.69847495 0.69858388 0.65588235\n",
      " 0.62265795 0.70021786 0.71394336 0.71078431 0.6795207  0.62265795\n",
      " 0.71982571 0.69880174 0.71002179 0.67222222 0.62265795 0.61535948\n",
      " 0.61873638 0.61481481 0.61078431 0.62265795 0.6        0.6583878\n",
      " 0.66546841 0.63627451 0.62265795 0.65163399 0.67156863 0.65969499\n",
      " 0.63104575 0.62265795 0.69858388 0.68061002 0.68464052 0.65457516\n",
      " 0.62265795 0.69248366 0.7254902  0.69357298 0.62755991 0.62265795\n",
      " 0.70816993 0.73943355 0.70642702 0.66819172 0.62265795 0.70664488\n",
      " 0.7375817  0.71666667 0.68006536 0.62265795 0.62233115 0.61263617\n",
      " 0.61928105 0.62461874 0.62265795 0.63061002 0.66590414 0.63431373\n",
      " 0.63877996 0.62265795 0.64771242 0.68039216 0.66960784 0.64052288\n",
      " 0.62265795 0.67690632 0.70021786 0.68464052 0.6412854  0.62265795\n",
      " 0.69466231 0.73344227 0.68366013 0.62908497 0.62265795 0.70250545\n",
      " 0.72374728 0.72418301 0.66111111 0.62265795 0.71013072 0.7412854\n",
      " 0.69901961 0.68779956 0.62265795]\n",
      "DecisionTreeClassifier(max_depth=3, max_features=7, min_samples_leaf=0.2)\n",
      "[0.         0.01951974 0.         0.         0.89029082 0.\n",
      " 0.09018945 0.        ]\n",
      "MSE train: 0.297, test: 0.386\n",
      "R^2 train: 0.400, test: 0.402\n"
     ]
    },
    {
     "data": {
      "image/png": "[encoded data removed]",
      "text/plain": [
       "<Figure size 936x648 with 1 Axes>"
      ]
     },
     "metadata": {
      "needs_background": "light"
     },
     "output_type": "display_data"
    }
   ],
   "source": [
    "#features = list(df_2.columns['M/F', 'Age', 'Educ', 'SES', 'MMSE', 'CDR', 'eTIV', 'nWBV', 'ASF'])\n",
    "features_1 = list(df_2.columns[0:5])\n",
    "features_2 = list(df_2.columns[6:9])\n",
    "features = features_1 + features_2\n",
    "#target = list(os_data_y)\n",
    "#print(len(features)) #it prints number of features\n",
    "x = df_2.loc[:, features].values #it gives a nested list with values of every features\n",
    "y = df_2.loc[:, 'CDR'].values #it gives a list with values of CDR\n",
    "\n",
    "from sklearn.model_selection import train_test_split\n",
    "x_train, x_test, y_train, y_test = train_test_split(x, y, test_size=0.2, random_state = 30)\n",
    "cv = RepeatedKFold(n_splits=10, n_repeats=3, random_state=30)\n",
    "\n",
    "param_grid = {'max_features': list(range(1, x_train.shape[1])), \n",
    "              'max_depth': [1, 2, 3],\n",
    "              'min_samples_leaf': np.linspace(0.1, 0.5, 5, endpoint=True)}\n",
    "\n",
    "# Create model\n",
    "tree_class = DecisionTreeClassifier()\n",
    "\n",
    "# Instantiate the grid search model\n",
    "grid_search = GridSearchCV(tree_class, param_grid, n_jobs=-1, cv=cv)\n",
    "y_pred = grid_search.fit(x_train, y_train).predict(x_test)\n",
    "\n",
    "print(grid_search.cv_results_['mean_test_score'])\n",
    "print(grid_search.best_estimator_)\n",
    "\n",
    "tree_class = DecisionTreeClassifier(max_depth=3, max_features=8, min_samples_leaf=0.1)\n",
    "tree_class.fit(x_train, y_train)\n",
    "print(tree_class.feature_importances_)\n",
    "plt.figure(figsize=(13,9))\n",
    "a = plot_tree(tree_class, filled=True, rounded=True, fontsize=12)\n",
    "\n",
    "y_train_pred = grid_search.predict(x_train)\n",
    "y_test_pred = grid_search.predict(x_test)\n",
    "print('MSE train: %.3f, test: %.3f' % (mean_squared_error(y_train, y_train_pred), mean_squared_error(y_test, y_test_pred)))\n",
    "print('R^2 train: %.3f, test: %.3f' % (r2_score(y_train, y_train_pred), r2_score(y_test, y_test_pred)))"
   ]
  },
  {
   "cell_type": "markdown",
   "metadata": {},
   "source": [
    "### Predicting and accuracy check"
   ]
  },
  {
   "cell_type": "code",
   "execution_count": 14,
   "metadata": {},
   "outputs": [
    {
     "name": "stdout",
     "output_type": "stream",
     "text": [
      "MSE: 0.39\n",
      "RMSE: 0.62\n",
      "MAE: 0.34\n",
      "MAPE: nan\n",
      "Accuracy: nan %.\n",
      "R^2: 0.40\n"
     ]
    },
    {
     "name": "stderr",
     "output_type": "stream",
     "text": [
      "C:\\Users\\italo\\miniconda3\\envs\\exams\\lib\\site-packages\\ipykernel_launcher.py:9: RuntimeWarning: divide by zero encountered in true_divide\n",
      "  if __name__ == '__main__':\n",
      "C:\\Users\\italo\\miniconda3\\envs\\exams\\lib\\site-packages\\ipykernel_launcher.py:9: RuntimeWarning: invalid value encountered in true_divide\n",
      "  if __name__ == '__main__':\n"
     ]
    }
   ],
   "source": [
    "mse = mean_squared_error(y_test, y_pred)\n",
    "print(\"MSE: %.2f\" % mse)\n",
    "print(\"RMSE: %.2f\" % np.sqrt(mse))\n",
    "\n",
    "mae = mean_absolute_error(y_test, y_pred)\n",
    "print(\"MAE: %.2f\" % mae)\n",
    "\n",
    "errors = abs(y_pred - y_test)   # Calculate the absolute errors\n",
    "mape = 100 * (errors / y_test)   # Calculate mean absolute percentage error (MAPE)\n",
    "print(\"MAPE: %.2f\" % np.mean(mape))\n",
    "accuracy = 100 - np.mean(mape)   # Calculate and display accuracy\n",
    "print('Accuracy:', round(accuracy, 2), '%.')\n",
    "\n",
    "r2 = r2_score(y_test, y_pred)\n",
    "print(\"R^2: %.2f\" % r2)"
   ]
  },
  {
   "cell_type": "markdown",
   "metadata": {},
   "source": [
    "## RFE\n"
   ]
  },
  {
   "cell_type": "code",
   "execution_count": 15,
   "metadata": {},
   "outputs": [],
   "source": [
    "### Splitting the dataset into the Training set and Test set"
   ]
  },
  {
   "cell_type": "code",
   "execution_count": 16,
   "metadata": {},
   "outputs": [],
   "source": [
    "X = df_2.loc[:, df_2.columns != 'CDR']\n",
    "y = df_2.loc[:, df_2.columns == 'CDR'] #this is target variable"
   ]
  },
  {
   "cell_type": "code",
   "execution_count": 17,
   "metadata": {},
   "outputs": [
    {
     "name": "stdout",
     "output_type": "stream",
     "text": [
      "Variables, except target variable, are: ['M/F', 'Age', 'Educ', 'SES', 'MMSE', 'eTIV', 'nWBV', 'ASF'] \n",
      "\n",
      "[False False False False  True False  True  True]\n",
      "[2 4 3 5 1 6 1 1]\n"
     ]
    }
   ],
   "source": [
    "from sklearn.feature_selection import RFE\n",
    "from sklearn.linear_model import LogisticRegression\n",
    "import warnings\n",
    "\n",
    "data_final_vars=df_2.columns.values.tolist()\n",
    "#print('Our starting variables are: ' + str(data_final_vars).replace('[', '').replace(']', ''), '\\n')\n",
    "print('Variables, except target variable, are: ' + str(X.columns.values.tolist()), '\\n')\n",
    "warnings.filterwarnings(\"ignore\")\n",
    "#y=['CDR']\n",
    "#X=['M/F', 'Age', 'Educ', 'SES', 'MMSE', 'eTIV', 'nWBV', 'ASF']\n",
    "\n",
    "logreg = LogisticRegression(max_iter=100000)\n",
    "rfe = RFE(logreg, 3) #we selected first four variables\n",
    "rfe = rfe.fit(X, y.values.ravel())\n",
    "print(rfe.support_) #this is the mask of selected features\n",
    "print(rfe.ranking_) #The feature ranking, such that ranking_[i] corresponds to the ranking position of the i-th feature\n",
    "#print(rfe.estimator_)\n",
    "#print(rfe[rfe.support_])"
   ]
  },
  {
   "cell_type": "code",
   "execution_count": 18,
   "metadata": {},
   "outputs": [
    {
     "data": {
      "text/html": [
       "<div>\n",
       "<style scoped>\n",
       "    .dataframe tbody tr th:only-of-type {\n",
       "        vertical-align: middle;\n",
       "    }\n",
       "\n",
       "    .dataframe tbody tr th {\n",
       "        vertical-align: top;\n",
       "    }\n",
       "\n",
       "    .dataframe thead th {\n",
       "        text-align: right;\n",
       "    }\n",
       "</style>\n",
       "<table border=\"1\" class=\"dataframe\">\n",
       "  <thead>\n",
       "    <tr style=\"text-align: right;\">\n",
       "      <th></th>\n",
       "      <th>MMSE</th>\n",
       "      <th>nWBV</th>\n",
       "      <th>ASF</th>\n",
       "    </tr>\n",
       "  </thead>\n",
       "  <tbody>\n",
       "    <tr>\n",
       "      <th>0</th>\n",
       "      <td>29</td>\n",
       "      <td>0.743</td>\n",
       "      <td>1.306</td>\n",
       "    </tr>\n",
       "    <tr>\n",
       "      <th>1</th>\n",
       "      <td>29</td>\n",
       "      <td>0.810</td>\n",
       "      <td>1.531</td>\n",
       "    </tr>\n",
       "    <tr>\n",
       "      <th>2</th>\n",
       "      <td>27</td>\n",
       "      <td>0.708</td>\n",
       "      <td>1.207</td>\n",
       "    </tr>\n",
       "    <tr>\n",
       "      <th>3</th>\n",
       "      <td>30</td>\n",
       "      <td>0.689</td>\n",
       "      <td>1.073</td>\n",
       "    </tr>\n",
       "    <tr>\n",
       "      <th>4</th>\n",
       "      <td>30</td>\n",
       "      <td>0.827</td>\n",
       "      <td>1.329</td>\n",
       "    </tr>\n",
       "  </tbody>\n",
       "</table>\n",
       "</div>"
      ],
      "text/plain": [
       "   MMSE   nWBV    ASF\n",
       "0    29  0.743  1.306\n",
       "1    29  0.810  1.531\n",
       "2    27  0.708  1.207\n",
       "3    30  0.689  1.073\n",
       "4    30  0.827  1.329"
      ]
     },
     "execution_count": 18,
     "metadata": {},
     "output_type": "execute_result"
    }
   ],
   "source": [
    "df_RFE = X[:] #creates a copy of the previous dataframe\n",
    "df_RFE = df_RFE.drop(columns = ['M/F', 'Age', 'Educ', 'SES', 'eTIV']) #dataframe with features selected with RFE\n",
    "df_RFE.head()"
   ]
  },
  {
   "cell_type": "code",
   "execution_count": 19,
   "metadata": {},
   "outputs": [],
   "source": [
    "from sklearn.model_selection import train_test_split\n",
    "x_train, x_test, y_train, y_test = train_test_split(df_RFE, y, test_size=0.3, random_state = 30)\n",
    "cv = RepeatedKFold(n_splits=10, n_repeats=3, random_state=30)"
   ]
  },
  {
   "cell_type": "markdown",
   "metadata": {},
   "source": [
    "## Decision Tree Classifier"
   ]
  },
  {
   "cell_type": "code",
   "execution_count": 20,
   "metadata": {},
   "outputs": [
    {
     "name": "stdout",
     "output_type": "stream",
     "text": [
      "[0.66430556 0.61361111 0.62222222 0.64430556 0.58236111 0.6625\n",
      " 0.68861111 0.65361111 0.62458333 0.58902778 0.68638889 0.66194444\n",
      " 0.65819444 0.61375    0.61569444 0.67541667 0.70430556 0.69777778\n",
      " 0.62708333 0.59347222 0.64902778 0.66902778 0.64013889 0.64666667\n",
      " 0.61347222 0.69333333 0.70208333 0.67138889 0.62861111 0.57791667]\n",
      "DecisionTreeClassifier(max_depth=2, max_features=2, min_samples_leaf=0.2)\n"
     ]
    }
   ],
   "source": [
    "from sklearn import tree\n",
    "from sklearn.tree import DecisionTreeClassifier\n",
    "\n",
    "param_grid = {'max_features': list(range(1, x_train.shape[1])), \n",
    "              'max_depth': [1, 2, 3],\n",
    "              'min_samples_leaf': np.linspace(0.1, 0.5, 5, endpoint=True)}\n",
    "\n",
    "# Create model\n",
    "tree_class = DecisionTreeClassifier()\n",
    "\n",
    "# Instantiate the grid search model\n",
    "grid_search = GridSearchCV(tree_class, param_grid, n_jobs=-1, cv=cv)\n",
    "y_pred = grid_search.fit(x_train, y_train).predict(x_test)\n",
    "\n",
    "print(grid_search.cv_results_['mean_test_score'])\n",
    "print(grid_search.best_estimator_)"
   ]
  },
  {
   "cell_type": "code",
   "execution_count": 21,
   "metadata": {},
   "outputs": [
    {
     "name": "stdout",
     "output_type": "stream",
     "text": [
      "[0.85458577 0.14541423 0.        ]\n"
     ]
    },
    {
     "data": {
      "image/png": "[encoded data removed]",
      "text/plain": [
       "<Figure size 936x648 with 1 Axes>"
      ]
     },
     "metadata": {
      "needs_background": "light"
     },
     "output_type": "display_data"
    }
   ],
   "source": [
    "from sklearn.tree import plot_tree\n",
    "import matplotlib.pyplot as plt\n",
    "tree_class = DecisionTreeClassifier(max_depth=3, max_features=3, min_samples_leaf=0.1)\n",
    "tree_class.fit(x_train, y_train)\n",
    "print(tree_class.feature_importances_)\n",
    "plt.figure(figsize=(13,9))\n",
    "a = plot_tree(tree_class, filled=True, rounded=True, fontsize=12)"
   ]
  },
  {
   "cell_type": "code",
   "execution_count": 22,
   "metadata": {},
   "outputs": [
    {
     "name": "stdout",
     "output_type": "stream",
     "text": [
      "MSE train: 0.311, test: 0.323\n",
      "R^2 train: 0.363, test: 0.474\n"
     ]
    }
   ],
   "source": [
    "y_train_pred = grid_search.predict(x_train)\n",
    "y_test_pred = grid_search.predict(x_test)\n",
    "print('MSE train: %.3f, test: %.3f' % (mean_squared_error(y_train, y_train_pred), mean_squared_error(y_test, y_test_pred)))\n",
    "print('R^2 train: %.3f, test: %.3f' % (r2_score(y_train, y_train_pred), r2_score(y_test, y_test_pred)))"
   ]
  },
  {
   "cell_type": "markdown",
   "metadata": {},
   "source": [
    "### Predicting and accuracy check"
   ]
  },
  {
   "cell_type": "code",
   "execution_count": 23,
   "metadata": {},
   "outputs": [
    {
     "name": "stdout",
     "output_type": "stream",
     "text": [
      "MSE: 0.32\n",
      "RMSE: 0.57\n",
      "MAE: 0.29\n",
      "MAPE: inf\n",
      "Accuracy: CDR   -inf\n",
      "dtype: float64 %.\n",
      "R^2: 0.47\n"
     ]
    }
   ],
   "source": [
    "y_pred = y_pred.reshape(65,1)\n",
    "mse = mean_squared_error(y_test, y_pred)\n",
    "print(\"MSE: %.2f\" % mse)\n",
    "print(\"RMSE: %.2f\" % np.sqrt(mse))\n",
    "\n",
    "mae = mean_absolute_error(y_test, y_pred)\n",
    "print(\"MAE: %.2f\" % mae)\n",
    "\n",
    "errors = abs(y_pred - y_test)   # Calculate the absolute errors\n",
    "mape = 100 * (errors / y_test)   # Calculate mean absolute percentage error (MAPE)\n",
    "print(\"MAPE: %.2f\" % np.mean(mape))\n",
    "accuracy = 100 - np.mean(mape)   # Calculate and display accuracy\n",
    "print('Accuracy:', round(accuracy, 2), '%.')\n",
    "\n",
    "r2 = r2_score(y_test, y_pred)\n",
    "print(\"R^2: %.2f\" % r2)"
   ]
  },
  {
   "cell_type": "markdown",
   "metadata": {},
   "source": [
    "### lavoriamo quindi soltanto sul dataset oversampled"
   ]
  },
  {
   "cell_type": "markdown",
   "metadata": {},
   "source": [
    "## Bagging"
   ]
  },
  {
   "cell_type": "code",
   "execution_count": 24,
   "metadata": {},
   "outputs": [
    {
     "data": {
      "text/plain": [
       "BaggingClassifier(max_samples=30, n_estimators=1000, n_jobs=-1, random_state=30)"
      ]
     },
     "execution_count": 24,
     "metadata": {},
     "output_type": "execute_result"
    }
   ],
   "source": [
    "from sklearn.ensemble import BaggingClassifier\n",
    "\n",
    "# Create model\n",
    "bagging_class = BaggingClassifier(n_estimators=1000, max_samples=30, n_jobs=-1, random_state=30)\n",
    "bagging_class.fit(x_train, y_train)"
   ]
  },
  {
   "cell_type": "code",
   "execution_count": 25,
   "metadata": {},
   "outputs": [
    {
     "name": "stdout",
     "output_type": "stream",
     "text": [
      "MSE train: 0.212, test: 0.308\n",
      "R^2 train: 0.566, test: 0.499\n"
     ]
    }
   ],
   "source": [
    "y_train_pred = bagging_class.predict(x_train)\n",
    "y_pred = bagging_class.predict(x_test)\n",
    "print('MSE train: %.3f, test: %.3f' % (mean_squared_error(y_train, y_train_pred), mean_squared_error(y_test, y_pred)))\n",
    "print('R^2 train: %.3f, test: %.3f' % (r2_score(y_train, y_train_pred), r2_score(y_test, y_pred)))"
   ]
  },
  {
   "cell_type": "markdown",
   "metadata": {},
   "source": [
    "### Predicting and accuracy check"
   ]
  },
  {
   "cell_type": "code",
   "execution_count": 26,
   "metadata": {},
   "outputs": [
    {
     "name": "stdout",
     "output_type": "stream",
     "text": [
      "MSE: 0.31\n",
      "RMSE: 0.55\n",
      "MAE: 0.28\n",
      "MAPE: inf\n",
      "Accuracy: CDR   -inf\n",
      "dtype: float64 %.\n",
      "R^2: 0.50\n"
     ]
    }
   ],
   "source": [
    "y_pred = y_pred.reshape(65, 1)\n",
    "mse = mean_squared_error(y_test, y_pred)\n",
    "print(\"MSE: %.2f\" % mse)\n",
    "print(\"RMSE: %.2f\" % np.sqrt(mse))\n",
    "\n",
    "mae = mean_absolute_error(y_test, y_pred)\n",
    "print(\"MAE: %.2f\" % mae)\n",
    "\n",
    "errors = abs(y_pred - y_test)   # Calculate the absolute errors\n",
    "mape = 100 * (errors / y_test)   # Calculate mean absolute percentage error (MAPE)\n",
    "print(\"MAPE: %.2f\" % np.mean(mape))\n",
    "accuracy = 100 - np.mean(mape)   # Calculate and display accuracy\n",
    "print('Accuracy:', round(accuracy, 2), '%.')\n",
    "\n",
    "r2 = r2_score(y_test, y_pred)\n",
    "print(\"R^2: %.2f\" % r2)"
   ]
  },
  {
   "cell_type": "markdown",
   "metadata": {},
   "source": [
    "## Random Forest"
   ]
  },
  {
   "cell_type": "code",
   "execution_count": 27,
   "metadata": {},
   "outputs": [
    {
     "name": "stdout",
     "output_type": "stream",
     "text": [
      "[0.61569444 0.68416667 0.61569444 0.61569444 0.71736111 0.61569444\n",
      " 0.61569444 0.61569444 0.61569444 0.67972222]\n",
      "RandomForestClassifier(min_samples_leaf=15, n_estimators=500)\n"
     ]
    }
   ],
   "source": [
    "from sklearn.ensemble import RandomForestClassifier\n",
    "\n",
    "param_grid = {'n_estimators': [50, 100, 200, 500, 1000],\n",
    "              'min_samples_split': [2],\n",
    "              'min_samples_leaf': np.arange(10, 100, 5)}\n",
    "\n",
    "r_forest = RandomForestClassifier()\n",
    "grid_search = RandomizedSearchCV(r_forest, param_grid, cv=cv, n_jobs=-1, n_iter=10, random_state=30)\n",
    "grid_search.fit(x_train, y_train)\n",
    "\n",
    "print(grid_search.cv_results_['mean_test_score'])\n",
    "print(grid_search.best_estimator_)"
   ]
  },
  {
   "cell_type": "code",
   "execution_count": 28,
   "metadata": {},
   "outputs": [
    {
     "name": "stdout",
     "output_type": "stream",
     "text": [
      "MSE train: 0.291, test: 0.323\n",
      "R^2 train: 0.403, test: 0.474\n"
     ]
    }
   ],
   "source": [
    "y_train_pred = grid_search.predict(x_train)\n",
    "y_pred = grid_search.predict(x_test)\n",
    "print('MSE train: %.3f, test: %.3f' % (mean_squared_error(y_train, y_train_pred), mean_squared_error(y_test, y_pred)))\n",
    "print('R^2 train: %.3f, test: %.3f' % (r2_score(y_train, y_train_pred), r2_score(y_test, y_pred)))"
   ]
  },
  {
   "cell_type": "markdown",
   "metadata": {},
   "source": [
    "### Predicting and accuracy check\n"
   ]
  },
  {
   "cell_type": "code",
   "execution_count": 29,
   "metadata": {},
   "outputs": [
    {
     "name": "stdout",
     "output_type": "stream",
     "text": [
      "MSE: 0.32\n",
      "RMSE: 0.57\n",
      "MAE: 0.29\n",
      "MAPE: 50.00\n",
      "Accuracy: CDR    50.0\n",
      "dtype: float64 %.\n",
      "R^2: 0.47\n"
     ]
    }
   ],
   "source": [
    "y_pred = y_pred.reshape(65, 1)\n",
    "mse = mean_squared_error(y_test, y_pred)\n",
    "print(\"MSE: %.2f\" % mse)\n",
    "print(\"RMSE: %.2f\" % np.sqrt(mse))\n",
    "\n",
    "mae = mean_absolute_error(y_test, y_pred)\n",
    "print(\"MAE: %.2f\" % mae)\n",
    "\n",
    "errors = abs(y_pred - y_test)   # Calculate the absolute errors\n",
    "mape = 100 * (errors / y_test)   # Calculate mean absolute percentage error (MAPE)\n",
    "print(\"MAPE: %.2f\" % np.mean(mape))\n",
    "accuracy = 100 - np.mean(mape)   # Calculate and display accuracy\n",
    "print('Accuracy:', round(accuracy, 2), '%.')\n",
    "\n",
    "r2 = r2_score(y_test, y_pred)\n",
    "print(\"R^2: %.2f\" % r2)"
   ]
  },
  {
   "cell_type": "markdown",
   "metadata": {},
   "source": [
    "## AdaBoost"
   ]
  },
  {
   "cell_type": "code",
   "execution_count": 30,
   "metadata": {},
   "outputs": [
    {
     "name": "stdout",
     "output_type": "stream",
     "text": [
      "[0.38791667 0.54541667 0.55875    0.72444444 0.54097222 0.53444444\n",
      " 0.53569444 0.56069444 0.72444444 0.55486111 0.72444444 0.58513889\n",
      " 0.49861111 0.72444444 0.56569444 0.58958333 0.61541667 0.41666667\n",
      " 0.55625    0.55166667]\n",
      "AdaBoostClassifier(learning_rate=0.001)\n"
     ]
    }
   ],
   "source": [
    "from sklearn.ensemble import AdaBoostClassifier\n",
    "\n",
    "param_grid = {'n_estimators': np.arange(50,1000,100),\n",
    "              'learning_rate': [0.0001, 0.001, 0.01, 0.05, 0.1, 0.3, 0.5, 1.0],\n",
    "             } #'loss':['linear', 'square', 'exponential']}\n",
    "\n",
    "# Create model\n",
    "ada_class = AdaBoostClassifier()\n",
    "\n",
    "# Instantiate the grid search model\n",
    "grid_search = RandomizedSearchCV(ada_class, param_grid, cv=cv, n_jobs=-1, n_iter=20, random_state=30)\n",
    "grid_search.fit(x_train, y_train)\n",
    "\n",
    "print(grid_search.cv_results_['mean_test_score'])\n",
    "print(grid_search.best_estimator_)"
   ]
  },
  {
   "cell_type": "code",
   "execution_count": 31,
   "metadata": {},
   "outputs": [
    {
     "name": "stdout",
     "output_type": "stream",
     "text": [
      "MSE train: 0.311, test: 0.323\n",
      "R^2 train: 0.363, test: 0.474\n"
     ]
    }
   ],
   "source": [
    "y_train_pred = grid_search.predict(x_train)\n",
    "y_pred = grid_search.predict(x_test)\n",
    "print('MSE train: %.3f, test: %.3f' % (mean_squared_error(y_train, y_train_pred), mean_squared_error(y_test, y_pred)))\n",
    "print('R^2 train: %.3f, test: %.3f' % (r2_score(y_train, y_train_pred), r2_score(y_test, y_pred)))"
   ]
  },
  {
   "cell_type": "markdown",
   "metadata": {},
   "source": [
    "### Predicting and accuracy check\n"
   ]
  },
  {
   "cell_type": "code",
   "execution_count": 32,
   "metadata": {},
   "outputs": [
    {
     "name": "stdout",
     "output_type": "stream",
     "text": [
      "MSE: 0.32\n",
      "RMSE: 0.57\n",
      "MAE: 0.29\n",
      "MAPE: inf\n",
      "Accuracy: CDR   -inf\n",
      "dtype: float64 %.\n",
      "R^2: 0.47\n"
     ]
    }
   ],
   "source": [
    "y_pred = y_pred.reshape(65, 1)\n",
    "mse = mean_squared_error(y_test, y_pred)\n",
    "print(\"MSE: %.2f\" % mse)\n",
    "print(\"RMSE: %.2f\" % np.sqrt(mse))\n",
    "\n",
    "mae = mean_absolute_error(y_test, y_pred)\n",
    "print(\"MAE: %.2f\" % mae)\n",
    "\n",
    "errors = abs(y_pred - y_test)   # Calculate the absolute errors\n",
    "mape = 100 * (errors / y_test)   # Calculate mean absolute percentage error (MAPE)\n",
    "print(\"MAPE: %.2f\" % np.mean(mape))\n",
    "accuracy = 100 - np.mean(mape)   # Calculate and display accuracy\n",
    "print('Accuracy:', round(accuracy, 2), '%.')\n",
    "\n",
    "r2 = r2_score(y_test, y_pred)\n",
    "print(\"R^2: %.2f\" % r2)"
   ]
  },
  {
   "cell_type": "markdown",
   "metadata": {},
   "source": [
    "## Gradient Boosting"
   ]
  },
  {
   "cell_type": "code",
   "execution_count": 33,
   "metadata": {},
   "outputs": [
    {
     "name": "stdout",
     "output_type": "stream",
     "text": [
      "[0.61569444 0.61569444 0.61569444 0.61569444 0.61569444 0.61569444\n",
      " 0.61569444 0.67333333 0.61569444 0.61569444 0.61569444 0.61569444\n",
      " 0.61569444 0.67486111 0.71958333 0.61569444 0.61569444 0.67305556\n",
      " 0.68833333 0.61569444]\n",
      "GradientBoostingClassifier(learning_rate=0.05, max_depth=4, max_features='log2',\n",
      "                           min_samples_leaf=50, n_estimators=500)\n"
     ]
    }
   ],
   "source": [
    "from sklearn.ensemble import GradientBoostingClassifier\n",
    "\n",
    "param_grid = {'max_depth': [1, 2, 3, 4],\n",
    "     'min_samples_split': [2],\n",
    "     'min_samples_leaf': np.arange(5,300,5),\n",
    "     'max_features' : ['log2',1.0],\n",
    "     'learning_rate' : [0.0001, 0.001, 0.01, 0.05, 0.1, 0.3, 0.5, 1.0],\n",
    "     'n_estimators': np.arange(50,1000,50),\n",
    "      } #'loss' : ['ls','huber']}\n",
    "\n",
    "# Create model\n",
    "gb_class = GradientBoostingClassifier()\n",
    "\n",
    "# Instantiate the grid search model\n",
    "grid_search = RandomizedSearchCV(gb_class, param_grid, cv=cv, n_jobs=-1, n_iter=20, random_state=30)\n",
    "grid_search.fit(x_train, y_train)\n",
    "\n",
    "print(grid_search.cv_results_['mean_test_score'])\n",
    "print(grid_search.best_estimator_)"
   ]
  },
  {
   "cell_type": "code",
   "execution_count": 34,
   "metadata": {},
   "outputs": [
    {
     "name": "stdout",
     "output_type": "stream",
     "text": [
      "MSE train: 0.212, test: 0.338\n",
      "R^2 train: 0.566, test: 0.449\n"
     ]
    }
   ],
   "source": [
    "y_train_pred = grid_search.predict(x_train)\n",
    "y_pred = grid_search.predict(x_test)\n",
    "print('MSE train: %.3f, test: %.3f' % (mean_squared_error(y_train, y_train_pred), mean_squared_error(y_test, y_pred)))\n",
    "print('R^2 train: %.3f, test: %.3f' % (r2_score(y_train, y_train_pred), r2_score(y_test, y_pred)))"
   ]
  },
  {
   "cell_type": "markdown",
   "metadata": {},
   "source": [
    "### Predicting and accuracy check\n"
   ]
  },
  {
   "cell_type": "code",
   "execution_count": 35,
   "metadata": {},
   "outputs": [
    {
     "name": "stdout",
     "output_type": "stream",
     "text": [
      "MSE: 0.34\n",
      "RMSE: 0.58\n",
      "MAE: 0.31\n",
      "MAPE: inf\n",
      "Accuracy: CDR   -inf\n",
      "dtype: float64 %.\n",
      "R^2: 0.45\n"
     ]
    }
   ],
   "source": [
    "y_pred = y_pred.reshape(65, 1)\n",
    "mse = mean_squared_error(y_test, y_pred)\n",
    "print(\"MSE: %.2f\" % mse)\n",
    "print(\"RMSE: %.2f\" % np.sqrt(mse))\n",
    "\n",
    "mae = mean_absolute_error(y_test, y_pred)\n",
    "print(\"MAE: %.2f\" % mae)\n",
    "\n",
    "errors = abs(y_pred - y_test)   # Calculate the absolute errors\n",
    "mape = 100 * (errors / y_test)   # Calculate mean absolute percentage error (MAPE)\n",
    "print(\"MAPE: %.2f\" % np.mean(mape))\n",
    "accuracy = 100 - np.mean(mape)   # Calculate and display accuracy\n",
    "print('Accuracy:', round(accuracy, 2), '%.')\n",
    "\n",
    "r2 = r2_score(y_test, y_pred)\n",
    "print(\"R^2: %.2f\" % r2)"
   ]
  },
  {
   "cell_type": "markdown",
   "metadata": {},
   "source": [
    "## XGBoost"
   ]
  },
  {
   "cell_type": "code",
   "execution_count": 37,
   "metadata": {},
   "outputs": [
    {
     "name": "stdout",
     "output_type": "stream",
     "text": [
      "[0.61569444 0.61569444 0.72388889 0.61569444 0.61569444 0.61569444\n",
      " 0.61569444 0.61569444 0.61569444 0.61569444 0.61569444 0.61569444\n",
      " 0.61569444 0.61569444 0.61569444 0.67986111 0.61569444 0.61569444\n",
      " 0.61569444 0.61569444]\n",
      "XGBClassifier(base_score=0.5, booster='gbtree', colsample_bylevel=1,\n",
      "              colsample_bynode=1, colsample_bytree=1, gamma=0, gpu_id=-1,\n",
      "              importance_type='gain', interaction_constraints='',\n",
      "              learning_rate=0.25, max_delta_step=0, max_depth=6,\n",
      "              min_child_weight=23, missing=nan, monotone_constraints='()',\n",
      "              n_estimators=1000, n_jobs=0, num_parallel_tree=1,\n",
      "              objective='multi:softprob', random_state=0, reg_alpha=0,\n",
      "              reg_lambda=1, scale_pos_weight=None, subsample=1,\n",
      "              tree_method='exact', validate_parameters=1, verbosity=None)\n"
     ]
    }
   ],
   "source": [
    "from xgboost import XGBClassifier\n",
    "\n",
    "param_grid = {'min_child_weight': np.arange(1,100),\n",
    "     'learning_rate' : [0.0001, 0.001, 0.01, 0.02, 0.03, 0.05, 0.1, 0.2, 0.25, 0.3, 0.4, 0.5, 0.7, 1.0],\n",
    "     'n_estimators': np.arange(50,3000,50)}\n",
    "\n",
    "# Create model\n",
    "xgb_class = XGBClassifier()\n",
    "\n",
    "# Instantiate the grid search model\n",
    "grid_search = RandomizedSearchCV(xgb_class, param_grid, cv=cv, n_jobs=-1, n_iter=20, random_state=30)\n",
    "grid_search.fit(x_train, y_train)\n",
    "\n",
    "print(grid_search.cv_results_['mean_test_score'])\n",
    "print(grid_search.best_estimator_)"
   ]
  },
  {
   "cell_type": "code",
   "execution_count": 38,
   "metadata": {},
   "outputs": [
    {
     "name": "stdout",
     "output_type": "stream",
     "text": [
      "MSE train: 0.338, test: 0.308\n",
      "R^2 train: 0.308, test: 0.499\n"
     ]
    }
   ],
   "source": [
    "y_train_pred = grid_search.predict(x_train)\n",
    "y_pred = grid_search.predict(x_test)\n",
    "print('MSE train: %.3f, test: %.3f' % (mean_squared_error(y_train, y_train_pred), mean_squared_error(y_test, y_pred)))\n",
    "print('R^2 train: %.3f, test: %.3f' % (r2_score(y_train, y_train_pred), r2_score(y_test, y_pred)))"
   ]
  },
  {
   "cell_type": "markdown",
   "metadata": {},
   "source": [
    "### Predicting and accuracy check"
   ]
  },
  {
   "cell_type": "code",
   "execution_count": 39,
   "metadata": {},
   "outputs": [
    {
     "name": "stdout",
     "output_type": "stream",
     "text": [
      "MSE: 0.31\n",
      "RMSE: 0.55\n",
      "MAE: 0.31\n",
      "MAPE: inf\n",
      "Accuracy: CDR   -inf\n",
      "dtype: float64 %.\n",
      "R^2: 0.50\n"
     ]
    }
   ],
   "source": [
    "y_pred = y_pred.reshape(65, 1)\n",
    "mse = mean_squared_error(y_test, y_pred)\n",
    "print(\"MSE: %.2f\" % mse)\n",
    "print(\"RMSE: %.2f\" % np.sqrt(mse))\n",
    "\n",
    "mae = mean_absolute_error(y_test, y_pred)\n",
    "print(\"MAE: %.2f\" % mae)\n",
    "\n",
    "errors = abs(y_pred - y_test)   # Calculate the absolute errors\n",
    "mape = 100 * (errors / y_test)   # Calculate mean absolute percentage error (MAPE)\n",
    "print(\"MAPE: %.2f\" % np.mean(mape))\n",
    "accuracy = 100 - np.mean(mape)   # Calculate and display accuracy\n",
    "print('Accuracy:', round(accuracy, 2), '%.')\n",
    "\n",
    "r2 = r2_score(y_test, y_pred)\n",
    "print(\"R^2: %.2f\" % r2)"
   ]
  },
  {
   "cell_type": "code",
   "execution_count": null,
   "metadata": {},
   "outputs": [],
   "source": []
  }
 ],
 "metadata": {
  "kernelspec": {
   "display_name": "Python 3",
   "language": "python",
   "name": "python3"
  },
  "language_info": {
   "codemirror_mode": {
    "name": "ipython",
    "version": 3
   },
   "file_extension": ".py",
   "mimetype": "text/x-python",
   "name": "python",
   "nbconvert_exporter": "python",
   "pygments_lexer": "ipython3",
   "version": "3.7.9"
  }
 },
 "nbformat": 4,
 "nbformat_minor": 4
}
